{
 "cells": [
  {
   "cell_type": "code",
   "execution_count": 2,
   "metadata": {
    "collapsed": false
   },
   "outputs": [
    {
     "name": "stderr",
     "output_type": "stream",
     "text": [
      "/home/cassius/anaconda3/lib/python3.4/site-packages/matplotlib/__init__.py:872: UserWarning: axes.color_cycle is deprecated and replaced with axes.prop_cycle; please use the latter.\n",
      "  warnings.warn(self.msg_depr % (key, alt_key))\n"
     ]
    }
   ],
   "source": [
    "#Standard\n",
    "import numpy as np\n",
    "import pandas as pd\n",
    "from numpy.random import randn\n",
    "#Stats\n",
    "from scipy import stats\n",
    "#Plotting\n",
    "import matplotlib as mpl\n",
    "import matplotlib.pyplot as plt\n",
    "import seaborn as sns\n",
    "#for inline output in iPython Notebook:\n",
    "%matplotlib inline"
   ]
  },
  {
   "cell_type": "code",
   "execution_count": 3,
   "metadata": {
    "collapsed": false
   },
   "outputs": [
    {
     "name": "stderr",
     "output_type": "stream",
     "text": [
      "/home/cassius/anaconda3/lib/python3.4/site-packages/IPython/core/interactiveshell.py:2902: DtypeWarning: Columns (5,6) have mixed types. Specify dtype option on import or set low_memory=False.\n",
      "  interactivity=interactivity, compiler=compiler, result=result)\n"
     ]
    },
    {
     "data": {
      "text/html": [
       "<div>\n",
       "<table border=\"1\" class=\"dataframe\">\n",
       "  <thead>\n",
       "    <tr style=\"text-align: right;\">\n",
       "      <th></th>\n",
       "      <th>Date received</th>\n",
       "      <th>Product</th>\n",
       "      <th>Sub-product</th>\n",
       "      <th>Issue</th>\n",
       "      <th>Sub-issue</th>\n",
       "      <th>Consumer complaint narrative</th>\n",
       "      <th>Company public response</th>\n",
       "      <th>Company</th>\n",
       "      <th>State</th>\n",
       "      <th>ZIP code</th>\n",
       "      <th>Submitted via</th>\n",
       "      <th>Date sent to company</th>\n",
       "      <th>Company response to consumer</th>\n",
       "      <th>Timely response?</th>\n",
       "      <th>Consumer disputed?</th>\n",
       "      <th>Complaint ID</th>\n",
       "    </tr>\n",
       "  </thead>\n",
       "  <tbody>\n",
       "    <tr>\n",
       "      <th>0</th>\n",
       "      <td>01/01/2016</td>\n",
       "      <td>Debt collection</td>\n",
       "      <td>Other (i.e. phone, health club, etc.)</td>\n",
       "      <td>Cont'd attempts collect debt not owed</td>\n",
       "      <td>Debt is not mine</td>\n",
       "      <td>NaN</td>\n",
       "      <td>NaN</td>\n",
       "      <td>Lamont, Hanley &amp; Associates, Inc.</td>\n",
       "      <td>PA</td>\n",
       "      <td>194XX</td>\n",
       "      <td>Web</td>\n",
       "      <td>01/01/2016</td>\n",
       "      <td>Closed with explanation</td>\n",
       "      <td>Yes</td>\n",
       "      <td>Yes</td>\n",
       "      <td>1723490</td>\n",
       "    </tr>\n",
       "    <tr>\n",
       "      <th>1</th>\n",
       "      <td>12/31/2015</td>\n",
       "      <td>Debt collection</td>\n",
       "      <td>Medical</td>\n",
       "      <td>Cont'd attempts collect debt not owed</td>\n",
       "      <td>Debt is not mine</td>\n",
       "      <td>NaN</td>\n",
       "      <td>Company believes it acted appropriately as aut...</td>\n",
       "      <td>Lamont, Hanley &amp; Associates, Inc.</td>\n",
       "      <td>MA</td>\n",
       "      <td>020XX</td>\n",
       "      <td>Web</td>\n",
       "      <td>12/31/2015</td>\n",
       "      <td>Closed with explanation</td>\n",
       "      <td>Yes</td>\n",
       "      <td>No</td>\n",
       "      <td>1724395</td>\n",
       "    </tr>\n",
       "    <tr>\n",
       "      <th>2</th>\n",
       "      <td>12/31/2015</td>\n",
       "      <td>Debt collection</td>\n",
       "      <td>I do not know</td>\n",
       "      <td>Cont'd attempts collect debt not owed</td>\n",
       "      <td>Debt is not mine</td>\n",
       "      <td>NaN</td>\n",
       "      <td>Company can't verify or dispute the facts in t...</td>\n",
       "      <td>Focus Holding Company</td>\n",
       "      <td>AL</td>\n",
       "      <td>36477</td>\n",
       "      <td>Web</td>\n",
       "      <td>12/31/2015</td>\n",
       "      <td>Closed with explanation</td>\n",
       "      <td>Yes</td>\n",
       "      <td>No</td>\n",
       "      <td>1724294</td>\n",
       "    </tr>\n",
       "    <tr>\n",
       "      <th>3</th>\n",
       "      <td>12/31/2015</td>\n",
       "      <td>Bank account or service</td>\n",
       "      <td>Other bank product/service</td>\n",
       "      <td>Account opening, closing, or management</td>\n",
       "      <td>NaN</td>\n",
       "      <td>NaN</td>\n",
       "      <td>NaN</td>\n",
       "      <td>Navy FCU</td>\n",
       "      <td>GA</td>\n",
       "      <td>30045</td>\n",
       "      <td>Web</td>\n",
       "      <td>12/31/2015</td>\n",
       "      <td>In progress</td>\n",
       "      <td>Yes</td>\n",
       "      <td>No</td>\n",
       "      <td>1723811</td>\n",
       "    </tr>\n",
       "    <tr>\n",
       "      <th>4</th>\n",
       "      <td>12/31/2015</td>\n",
       "      <td>Debt collection</td>\n",
       "      <td>Auto</td>\n",
       "      <td>Disclosure verification of debt</td>\n",
       "      <td>Right to dispute notice not received</td>\n",
       "      <td>NaN</td>\n",
       "      <td>NaN</td>\n",
       "      <td>Caine &amp; Weiner Co. Inc.</td>\n",
       "      <td>PA</td>\n",
       "      <td>191XX</td>\n",
       "      <td>Web</td>\n",
       "      <td>12/31/2015</td>\n",
       "      <td>Closed with explanation</td>\n",
       "      <td>Yes</td>\n",
       "      <td>No</td>\n",
       "      <td>1722410</td>\n",
       "    </tr>\n",
       "  </tbody>\n",
       "</table>\n",
       "</div>"
      ],
      "text/plain": [
       "  Date received                  Product  \\\n",
       "0    01/01/2016          Debt collection   \n",
       "1    12/31/2015          Debt collection   \n",
       "2    12/31/2015          Debt collection   \n",
       "3    12/31/2015  Bank account or service   \n",
       "4    12/31/2015          Debt collection   \n",
       "\n",
       "                             Sub-product  \\\n",
       "0  Other (i.e. phone, health club, etc.)   \n",
       "1                                Medical   \n",
       "2                          I do not know   \n",
       "3             Other bank product/service   \n",
       "4                                   Auto   \n",
       "\n",
       "                                     Issue  \\\n",
       "0    Cont'd attempts collect debt not owed   \n",
       "1    Cont'd attempts collect debt not owed   \n",
       "2    Cont'd attempts collect debt not owed   \n",
       "3  Account opening, closing, or management   \n",
       "4          Disclosure verification of debt   \n",
       "\n",
       "                              Sub-issue Consumer complaint narrative  \\\n",
       "0                      Debt is not mine                          NaN   \n",
       "1                      Debt is not mine                          NaN   \n",
       "2                      Debt is not mine                          NaN   \n",
       "3                                   NaN                          NaN   \n",
       "4  Right to dispute notice not received                          NaN   \n",
       "\n",
       "                             Company public response  \\\n",
       "0                                                NaN   \n",
       "1  Company believes it acted appropriately as aut...   \n",
       "2  Company can't verify or dispute the facts in t...   \n",
       "3                                                NaN   \n",
       "4                                                NaN   \n",
       "\n",
       "                             Company State ZIP code Submitted via  \\\n",
       "0  Lamont, Hanley & Associates, Inc.    PA    194XX           Web   \n",
       "1  Lamont, Hanley & Associates, Inc.    MA    020XX           Web   \n",
       "2              Focus Holding Company    AL    36477           Web   \n",
       "3                           Navy FCU    GA    30045           Web   \n",
       "4            Caine & Weiner Co. Inc.    PA    191XX           Web   \n",
       "\n",
       "  Date sent to company Company response to consumer Timely response?  \\\n",
       "0           01/01/2016      Closed with explanation              Yes   \n",
       "1           12/31/2015      Closed with explanation              Yes   \n",
       "2           12/31/2015      Closed with explanation              Yes   \n",
       "3           12/31/2015                  In progress              Yes   \n",
       "4           12/31/2015      Closed with explanation              Yes   \n",
       "\n",
       "  Consumer disputed?  Complaint ID  \n",
       "0                Yes       1723490  \n",
       "1                 No       1724395  \n",
       "2                 No       1724294  \n",
       "3                 No       1723811  \n",
       "4                 No       1722410  "
      ]
     },
     "execution_count": 3,
     "metadata": {},
     "output_type": "execute_result"
    }
   ],
   "source": [
    "cc_df = pd.read_csv('Consumer_Complaints.csv')\n",
    "cc_df = pd.DataFrame(cc_df)\n",
    "cc_df.head()"
   ]
  },
  {
   "cell_type": "code",
   "execution_count": 4,
   "metadata": {
    "collapsed": false
   },
   "outputs": [
    {
     "name": "stdout",
     "output_type": "stream",
     "text": [
      "<class 'pandas.core.frame.DataFrame'>\n",
      "Int64Index: 501193 entries, 0 to 501192\n",
      "Data columns (total 16 columns):\n",
      "Date received                   501193 non-null object\n",
      "Product                         501193 non-null object\n",
      "Sub-product                     361520 non-null object\n",
      "Issue                           501182 non-null object\n",
      "Sub-issue                       186245 non-null object\n",
      "Consumer complaint narrative    45191 non-null object\n",
      "Company public response         57932 non-null object\n",
      "Company                         501193 non-null object\n",
      "State                           494489 non-null object\n",
      "ZIP code                        496577 non-null object\n",
      "Submitted via                   501193 non-null object\n",
      "Date sent to company            501193 non-null object\n",
      "Company response to consumer    501193 non-null object\n",
      "Timely response?                501193 non-null object\n",
      "Consumer disputed?              501193 non-null object\n",
      "Complaint ID                    501193 non-null int64\n",
      "dtypes: int64(1), object(15)\n",
      "memory usage: 65.0+ MB\n"
     ]
    }
   ],
   "source": [
    "cc_df.info()"
   ]
  },
  {
   "cell_type": "code",
   "execution_count": 5,
   "metadata": {
    "collapsed": false
   },
   "outputs": [
    {
     "data": {
      "text/plain": [
       "array(['Debt collection', 'Bank account or service', 'Credit reporting',\n",
       "       'Consumer Loan', 'Money transfers', 'Mortgage', 'Credit card',\n",
       "       'Payday loan', 'Student loan', 'Other financial service',\n",
       "       'Prepaid card'], dtype=object)"
      ]
     },
     "execution_count": 5,
     "metadata": {},
     "output_type": "execute_result"
    }
   ],
   "source": [
    "cc_df['Product'].unique()"
   ]
  },
  {
   "cell_type": "code",
   "execution_count": 6,
   "metadata": {
    "collapsed": false
   },
   "outputs": [],
   "source": [
    "## Grouping by product \n",
    "g = cc_df.groupby('Product')"
   ]
  },
  {
   "cell_type": "code",
   "execution_count": 7,
   "metadata": {
    "collapsed": false
   },
   "outputs": [
    {
     "data": {
      "text/plain": [
       "Product\n",
       "Bank account or service     56930\n",
       "Consumer Loan               18263\n",
       "Credit card                 60580\n",
       "Credit reporting            79093\n",
       "Debt collection             89170\n",
       "Mortgage                   173375\n",
       "Student loan                14530\n",
       "dtype: int64"
      ]
     },
     "execution_count": 7,
     "metadata": {},
     "output_type": "execute_result"
    }
   ],
   "source": [
    "## Looks like after mortgages, debt collection received the next largest amount of consumer complaints.\n",
    "## Let's have a look. \n",
    "size = g.size()\n",
    "most_comps = size[size > 10000]\n",
    "most_comps"
   ]
  },
  {
   "cell_type": "code",
   "execution_count": 8,
   "metadata": {
    "collapsed": false
   },
   "outputs": [
    {
     "data": {
      "text/html": [
       "<div>\n",
       "<table border=\"1\" class=\"dataframe\">\n",
       "  <thead>\n",
       "    <tr style=\"text-align: right;\">\n",
       "      <th></th>\n",
       "      <th>Date received</th>\n",
       "      <th>Product</th>\n",
       "      <th>Issue</th>\n",
       "      <th>Sub-issue</th>\n",
       "      <th>Company</th>\n",
       "      <th>State</th>\n",
       "      <th>Date sent to company</th>\n",
       "      <th>Company response to consumer</th>\n",
       "      <th>Timely response?</th>\n",
       "      <th>Consumer disputed?</th>\n",
       "    </tr>\n",
       "  </thead>\n",
       "  <tbody>\n",
       "    <tr>\n",
       "      <th>0</th>\n",
       "      <td>01/01/2016</td>\n",
       "      <td>Debt collection</td>\n",
       "      <td>Cont'd attempts collect debt not owed</td>\n",
       "      <td>Debt is not mine</td>\n",
       "      <td>Lamont, Hanley &amp; Associates, Inc.</td>\n",
       "      <td>PA</td>\n",
       "      <td>01/01/2016</td>\n",
       "      <td>Closed with explanation</td>\n",
       "      <td>Yes</td>\n",
       "      <td>Yes</td>\n",
       "    </tr>\n",
       "    <tr>\n",
       "      <th>1</th>\n",
       "      <td>12/31/2015</td>\n",
       "      <td>Debt collection</td>\n",
       "      <td>Cont'd attempts collect debt not owed</td>\n",
       "      <td>Debt is not mine</td>\n",
       "      <td>Lamont, Hanley &amp; Associates, Inc.</td>\n",
       "      <td>MA</td>\n",
       "      <td>12/31/2015</td>\n",
       "      <td>Closed with explanation</td>\n",
       "      <td>Yes</td>\n",
       "      <td>No</td>\n",
       "    </tr>\n",
       "    <tr>\n",
       "      <th>2</th>\n",
       "      <td>12/31/2015</td>\n",
       "      <td>Debt collection</td>\n",
       "      <td>Cont'd attempts collect debt not owed</td>\n",
       "      <td>Debt is not mine</td>\n",
       "      <td>Focus Holding Company</td>\n",
       "      <td>AL</td>\n",
       "      <td>12/31/2015</td>\n",
       "      <td>Closed with explanation</td>\n",
       "      <td>Yes</td>\n",
       "      <td>No</td>\n",
       "    </tr>\n",
       "    <tr>\n",
       "      <th>3</th>\n",
       "      <td>12/31/2015</td>\n",
       "      <td>Bank account or service</td>\n",
       "      <td>Account opening, closing, or management</td>\n",
       "      <td>NaN</td>\n",
       "      <td>Navy FCU</td>\n",
       "      <td>GA</td>\n",
       "      <td>12/31/2015</td>\n",
       "      <td>In progress</td>\n",
       "      <td>Yes</td>\n",
       "      <td>No</td>\n",
       "    </tr>\n",
       "    <tr>\n",
       "      <th>4</th>\n",
       "      <td>12/31/2015</td>\n",
       "      <td>Debt collection</td>\n",
       "      <td>Disclosure verification of debt</td>\n",
       "      <td>Right to dispute notice not received</td>\n",
       "      <td>Caine &amp; Weiner Co. Inc.</td>\n",
       "      <td>PA</td>\n",
       "      <td>12/31/2015</td>\n",
       "      <td>Closed with explanation</td>\n",
       "      <td>Yes</td>\n",
       "      <td>No</td>\n",
       "    </tr>\n",
       "  </tbody>\n",
       "</table>\n",
       "</div>"
      ],
      "text/plain": [
       "  Date received                  Product  \\\n",
       "0    01/01/2016          Debt collection   \n",
       "1    12/31/2015          Debt collection   \n",
       "2    12/31/2015          Debt collection   \n",
       "3    12/31/2015  Bank account or service   \n",
       "4    12/31/2015          Debt collection   \n",
       "\n",
       "                                     Issue  \\\n",
       "0    Cont'd attempts collect debt not owed   \n",
       "1    Cont'd attempts collect debt not owed   \n",
       "2    Cont'd attempts collect debt not owed   \n",
       "3  Account opening, closing, or management   \n",
       "4          Disclosure verification of debt   \n",
       "\n",
       "                              Sub-issue                            Company  \\\n",
       "0                      Debt is not mine  Lamont, Hanley & Associates, Inc.   \n",
       "1                      Debt is not mine  Lamont, Hanley & Associates, Inc.   \n",
       "2                      Debt is not mine              Focus Holding Company   \n",
       "3                                   NaN                           Navy FCU   \n",
       "4  Right to dispute notice not received            Caine & Weiner Co. Inc.   \n",
       "\n",
       "  State Date sent to company Company response to consumer Timely response?  \\\n",
       "0    PA           01/01/2016      Closed with explanation              Yes   \n",
       "1    MA           12/31/2015      Closed with explanation              Yes   \n",
       "2    AL           12/31/2015      Closed with explanation              Yes   \n",
       "3    GA           12/31/2015                  In progress              Yes   \n",
       "4    PA           12/31/2015      Closed with explanation              Yes   \n",
       "\n",
       "  Consumer disputed?  \n",
       "0                Yes  \n",
       "1                 No  \n",
       "2                 No  \n",
       "3                 No  \n",
       "4                 No  "
      ]
     },
     "execution_count": 8,
     "metadata": {},
     "output_type": "execute_result"
    }
   ],
   "source": [
    "cc_df = g.filter(lambda x: len(x) > 10000)\n",
    "cc_df = cc_df.drop(['Sub-product','Company public response','Consumer complaint narrative',\n",
    "                    'ZIP code','Submitted via','Complaint ID',],axis=1)\n",
    "cc_df.head()"
   ]
  },
  {
   "cell_type": "code",
   "execution_count": 9,
   "metadata": {
    "collapsed": false
   },
   "outputs": [
    {
     "data": {
      "text/plain": [
       "(491941, 10)"
      ]
     },
     "execution_count": 9,
     "metadata": {},
     "output_type": "execute_result"
    }
   ],
   "source": [
    "cc_df.shape"
   ]
  },
  {
   "cell_type": "code",
   "execution_count": 10,
   "metadata": {
    "collapsed": false
   },
   "outputs": [
    {
     "data": {
      "text/plain": [
       "pandas.core.frame.DataFrame"
      ]
     },
     "execution_count": 10,
     "metadata": {},
     "output_type": "execute_result"
    }
   ],
   "source": [
    "type(cc_df)"
   ]
  },
  {
   "cell_type": "code",
   "execution_count": 11,
   "metadata": {
    "collapsed": false
   },
   "outputs": [
    {
     "data": {
      "text/html": [
       "<div>\n",
       "<table border=\"1\" class=\"dataframe\">\n",
       "  <thead>\n",
       "    <tr style=\"text-align: right;\">\n",
       "      <th></th>\n",
       "      <th>Date received</th>\n",
       "      <th>Product</th>\n",
       "      <th>Issue</th>\n",
       "      <th>Sub-issue</th>\n",
       "      <th>Company</th>\n",
       "      <th>State</th>\n",
       "      <th>Date sent to company</th>\n",
       "      <th>Company response to consumer</th>\n",
       "      <th>Timely response?</th>\n",
       "      <th>Consumer disputed?</th>\n",
       "    </tr>\n",
       "  </thead>\n",
       "  <tbody>\n",
       "    <tr>\n",
       "      <th>0</th>\n",
       "      <td>01/01/2016</td>\n",
       "      <td>Debt collection</td>\n",
       "      <td>Cont'd attempts collect debt not owed</td>\n",
       "      <td>Debt is not mine</td>\n",
       "      <td>Lamont, Hanley &amp; Associates, Inc.</td>\n",
       "      <td>PA</td>\n",
       "      <td>01/01/2016</td>\n",
       "      <td>Closed with explanation</td>\n",
       "      <td>Yes</td>\n",
       "      <td>Yes</td>\n",
       "    </tr>\n",
       "    <tr>\n",
       "      <th>1</th>\n",
       "      <td>12/31/2015</td>\n",
       "      <td>Debt collection</td>\n",
       "      <td>Cont'd attempts collect debt not owed</td>\n",
       "      <td>Debt is not mine</td>\n",
       "      <td>Lamont, Hanley &amp; Associates, Inc.</td>\n",
       "      <td>MA</td>\n",
       "      <td>12/31/2015</td>\n",
       "      <td>Closed with explanation</td>\n",
       "      <td>Yes</td>\n",
       "      <td>No</td>\n",
       "    </tr>\n",
       "    <tr>\n",
       "      <th>2</th>\n",
       "      <td>12/31/2015</td>\n",
       "      <td>Debt collection</td>\n",
       "      <td>Cont'd attempts collect debt not owed</td>\n",
       "      <td>Debt is not mine</td>\n",
       "      <td>Focus Holding Company</td>\n",
       "      <td>AL</td>\n",
       "      <td>12/31/2015</td>\n",
       "      <td>Closed with explanation</td>\n",
       "      <td>Yes</td>\n",
       "      <td>No</td>\n",
       "    </tr>\n",
       "    <tr>\n",
       "      <th>4</th>\n",
       "      <td>12/31/2015</td>\n",
       "      <td>Debt collection</td>\n",
       "      <td>Disclosure verification of debt</td>\n",
       "      <td>Right to dispute notice not received</td>\n",
       "      <td>Caine &amp; Weiner Co. Inc.</td>\n",
       "      <td>PA</td>\n",
       "      <td>12/31/2015</td>\n",
       "      <td>Closed with explanation</td>\n",
       "      <td>Yes</td>\n",
       "      <td>No</td>\n",
       "    </tr>\n",
       "    <tr>\n",
       "      <th>5</th>\n",
       "      <td>12/31/2015</td>\n",
       "      <td>Debt collection</td>\n",
       "      <td>Communication tactics</td>\n",
       "      <td>Frequent or repeated calls</td>\n",
       "      <td>Mariner Finance, LLC</td>\n",
       "      <td>NC</td>\n",
       "      <td>12/31/2015</td>\n",
       "      <td>Closed with explanation</td>\n",
       "      <td>Yes</td>\n",
       "      <td>No</td>\n",
       "    </tr>\n",
       "  </tbody>\n",
       "</table>\n",
       "</div>"
      ],
      "text/plain": [
       "  Date received          Product                                  Issue  \\\n",
       "0    01/01/2016  Debt collection  Cont'd attempts collect debt not owed   \n",
       "1    12/31/2015  Debt collection  Cont'd attempts collect debt not owed   \n",
       "2    12/31/2015  Debt collection  Cont'd attempts collect debt not owed   \n",
       "4    12/31/2015  Debt collection        Disclosure verification of debt   \n",
       "5    12/31/2015  Debt collection                  Communication tactics   \n",
       "\n",
       "                              Sub-issue                            Company  \\\n",
       "0                      Debt is not mine  Lamont, Hanley & Associates, Inc.   \n",
       "1                      Debt is not mine  Lamont, Hanley & Associates, Inc.   \n",
       "2                      Debt is not mine              Focus Holding Company   \n",
       "4  Right to dispute notice not received            Caine & Weiner Co. Inc.   \n",
       "5            Frequent or repeated calls               Mariner Finance, LLC   \n",
       "\n",
       "  State Date sent to company Company response to consumer Timely response?  \\\n",
       "0    PA           01/01/2016      Closed with explanation              Yes   \n",
       "1    MA           12/31/2015      Closed with explanation              Yes   \n",
       "2    AL           12/31/2015      Closed with explanation              Yes   \n",
       "4    PA           12/31/2015      Closed with explanation              Yes   \n",
       "5    NC           12/31/2015      Closed with explanation              Yes   \n",
       "\n",
       "  Consumer disputed?  \n",
       "0                Yes  \n",
       "1                 No  \n",
       "2                 No  \n",
       "4                 No  \n",
       "5                 No  "
      ]
     },
     "execution_count": 11,
     "metadata": {},
     "output_type": "execute_result"
    }
   ],
   "source": [
    "## Let's check out the DataFrame for debt collection complaints:\n",
    "debt_df = cc_df[cc_df['Product'] == 'Debt collection']\n",
    "debt_df.head()"
   ]
  },
  {
   "cell_type": "code",
   "execution_count": 20,
   "metadata": {
    "collapsed": false
   },
   "outputs": [
    {
     "data": {
      "text/plain": [
       "Encore Capital Group                                          5444\n",
       "Portfolio Recovery Associates, Inc.                           2816\n",
       "Enhanced Recovery Company, LLC                                2375\n",
       "Citibank                                                      1841\n",
       "Expert Global Solutions, Inc.                                 1492\n",
       "Synchrony Bank                                                1390\n",
       "Capital One                                                   1368\n",
       "Resurgent Capital Services L.P.                               1314\n",
       "Convergent Resources, Inc.                                    1148\n",
       "JPMorgan Chase                                                1126\n",
       "Bank of America                                               1031\n",
       "Allied Interstate LLC                                         1020\n",
       "Navient                                                       1008\n",
       "Transworld Systems Inc.                                        946\n",
       "Diversified Consultants, Inc.                                  879\n",
       "Dynamic Recovery Solutions, LLC                                854\n",
       "Afni, Inc.                                                     836\n",
       "Wells Fargo                                                    824\n",
       "I.C. System, Inc.                                              765\n",
       "EOS Holdings, Inc.                                             763\n",
       "HSBC                                                           749\n",
       "Cavalry Investments, LLC                                       652\n",
       "Receivables Performance Management LLC                         587\n",
       "CCS Financial Services, Inc.                                   585\n",
       "Stellar Recovery Inc.                                          572\n",
       "The CBE Group, Inc.                                            567\n",
       "Alorica Inc.                                                   550\n",
       "National Credit Systems,Inc.                                   538\n",
       "Commonwealth Financial Systems, Inc.                           534\n",
       "Pinnacle Credit Services, LLC                                  515\n",
       "                                                              ... \n",
       "Richard H. Kream                                                 1\n",
       "South West Recovery Inc (CA)                                     1\n",
       "Axis Financial Services, Inc.                                    1\n",
       "Gary L. Brueggeman, Attorney at Law                              1\n",
       "Pluese, Becker & Saltzman, LLC                                   1\n",
       "American Billing & Collection                                    1\n",
       "Howell & Vail, LLP                                               1\n",
       "The Grimes Legal Group, LLC                                      1\n",
       "Finance of America Reverse LLC                                   1\n",
       "Audubon Holdings Group                                           1\n",
       "Real Property Business Services, Inc.                            1\n",
       "United Credit Service Inc                                        1\n",
       "Poole Mahoney PC                                                 1\n",
       "PMGI, LLC                                                        1\n",
       "National Credit Processing Inc.                                  1\n",
       "AUTOMATED RECOVERY SYSTEMS, INC                                  1\n",
       "Revenue Systems, Inc.                                            1\n",
       "American Northwest Recovery Solutions Inc                        1\n",
       "DSS Financial Group, LLC                                         1\n",
       "BG Lenders Service LLC                                           1\n",
       "Premier Advanced Financial Corp II                               1\n",
       "Luper Neidenthal & Logan, A Legal Professional Association       1\n",
       "Grand American Resources, Inc                                    1\n",
       "Dobberstein Law Firm, LLC                                        1\n",
       "Schiller & Adam, P.A.                                            1\n",
       "Bayview Solutions LLC                                            1\n",
       "Magnum Association Services                                      1\n",
       "Segan, Mason & Mason, P.C.                                       1\n",
       "Scott Fetzer Financial Group, Inc.                               1\n",
       "Isla Repossesions & Collection Inc                               1\n",
       "Name: Company, dtype: int64"
      ]
     },
     "execution_count": 20,
     "metadata": {},
     "output_type": "execute_result"
    }
   ],
   "source": [
    "## Looks like if we eliminate companies with less than 1000 complaints for debt collection,\n",
    "## we can get a 'top 13' list. \n",
    "debt_df['Company'].value_counts()"
   ]
  },
  {
   "cell_type": "code",
   "execution_count": 24,
   "metadata": {
    "collapsed": false
   },
   "outputs": [
    {
     "data": {
      "text/plain": [
       "Company\n",
       "Allied Interstate LLC                  1020\n",
       "Bank of America                        1031\n",
       "Capital One                            1368\n",
       "Citibank                               1841\n",
       "Convergent Resources, Inc.             1148\n",
       "Encore Capital Group                   5444\n",
       "Enhanced Recovery Company, LLC         2375\n",
       "Expert Global Solutions, Inc.          1492\n",
       "JPMorgan Chase                         1126\n",
       "Navient                                1008\n",
       "Portfolio Recovery Associates, Inc.    2816\n",
       "Resurgent Capital Services L.P.        1314\n",
       "Synchrony Bank                         1390\n",
       "dtype: int64"
      ]
     },
     "execution_count": 24,
     "metadata": {},
     "output_type": "execute_result"
    }
   ],
   "source": [
    "c = debt_df.groupby('Company')\n",
    "size = c.size()\n",
    "most_comps = size[size > 1000]\n",
    "most_comps"
   ]
  },
  {
   "cell_type": "code",
   "execution_count": 26,
   "metadata": {
    "collapsed": false
   },
   "outputs": [
    {
     "data": {
      "text/html": [
       "<div>\n",
       "<table border=\"1\" class=\"dataframe\">\n",
       "  <thead>\n",
       "    <tr style=\"text-align: right;\">\n",
       "      <th></th>\n",
       "      <th>Date received</th>\n",
       "      <th>Product</th>\n",
       "      <th>Issue</th>\n",
       "      <th>Sub-issue</th>\n",
       "      <th>Company</th>\n",
       "      <th>State</th>\n",
       "      <th>Date sent to company</th>\n",
       "      <th>Company response to consumer</th>\n",
       "      <th>Timely response?</th>\n",
       "      <th>Consumer disputed?</th>\n",
       "    </tr>\n",
       "  </thead>\n",
       "  <tbody>\n",
       "    <tr>\n",
       "      <th>83</th>\n",
       "      <td>12/29/2015</td>\n",
       "      <td>Debt collection</td>\n",
       "      <td>Cont'd attempts collect debt not owed</td>\n",
       "      <td>Debt was paid</td>\n",
       "      <td>Convergent Resources, Inc.</td>\n",
       "      <td>NE</td>\n",
       "      <td>12/29/2015</td>\n",
       "      <td>Closed with explanation</td>\n",
       "      <td>Yes</td>\n",
       "      <td>Yes</td>\n",
       "    </tr>\n",
       "    <tr>\n",
       "      <th>100</th>\n",
       "      <td>12/29/2015</td>\n",
       "      <td>Debt collection</td>\n",
       "      <td>Cont'd attempts collect debt not owed</td>\n",
       "      <td>Debt is not mine</td>\n",
       "      <td>Enhanced Recovery Company, LLC</td>\n",
       "      <td>TX</td>\n",
       "      <td>12/29/2015</td>\n",
       "      <td>Closed with non-monetary relief</td>\n",
       "      <td>Yes</td>\n",
       "      <td>No</td>\n",
       "    </tr>\n",
       "    <tr>\n",
       "      <th>122</th>\n",
       "      <td>12/29/2015</td>\n",
       "      <td>Debt collection</td>\n",
       "      <td>Communication tactics</td>\n",
       "      <td>Threatened to take legal action</td>\n",
       "      <td>Convergent Resources, Inc.</td>\n",
       "      <td>KS</td>\n",
       "      <td>12/29/2015</td>\n",
       "      <td>Closed with explanation</td>\n",
       "      <td>Yes</td>\n",
       "      <td>Yes</td>\n",
       "    </tr>\n",
       "    <tr>\n",
       "      <th>144</th>\n",
       "      <td>12/28/2015</td>\n",
       "      <td>Debt collection</td>\n",
       "      <td>Disclosure verification of debt</td>\n",
       "      <td>Not given enough info to verify debt</td>\n",
       "      <td>Expert Global Solutions, Inc.</td>\n",
       "      <td>VA</td>\n",
       "      <td>12/28/2015</td>\n",
       "      <td>In progress</td>\n",
       "      <td>Yes</td>\n",
       "      <td>No</td>\n",
       "    </tr>\n",
       "    <tr>\n",
       "      <th>148</th>\n",
       "      <td>12/28/2015</td>\n",
       "      <td>Debt collection</td>\n",
       "      <td>Communication tactics</td>\n",
       "      <td>Frequent or repeated calls</td>\n",
       "      <td>Convergent Resources, Inc.</td>\n",
       "      <td>WI</td>\n",
       "      <td>12/30/2015</td>\n",
       "      <td>Closed with explanation</td>\n",
       "      <td>Yes</td>\n",
       "      <td>No</td>\n",
       "    </tr>\n",
       "  </tbody>\n",
       "</table>\n",
       "</div>"
      ],
      "text/plain": [
       "    Date received          Product                                  Issue  \\\n",
       "83     12/29/2015  Debt collection  Cont'd attempts collect debt not owed   \n",
       "100    12/29/2015  Debt collection  Cont'd attempts collect debt not owed   \n",
       "122    12/29/2015  Debt collection                  Communication tactics   \n",
       "144    12/28/2015  Debt collection        Disclosure verification of debt   \n",
       "148    12/28/2015  Debt collection                  Communication tactics   \n",
       "\n",
       "                                Sub-issue                         Company  \\\n",
       "83                          Debt was paid      Convergent Resources, Inc.   \n",
       "100                      Debt is not mine  Enhanced Recovery Company, LLC   \n",
       "122       Threatened to take legal action      Convergent Resources, Inc.   \n",
       "144  Not given enough info to verify debt   Expert Global Solutions, Inc.   \n",
       "148            Frequent or repeated calls      Convergent Resources, Inc.   \n",
       "\n",
       "    State Date sent to company     Company response to consumer  \\\n",
       "83     NE           12/29/2015          Closed with explanation   \n",
       "100    TX           12/29/2015  Closed with non-monetary relief   \n",
       "122    KS           12/29/2015          Closed with explanation   \n",
       "144    VA           12/28/2015                      In progress   \n",
       "148    WI           12/30/2015          Closed with explanation   \n",
       "\n",
       "    Timely response? Consumer disputed?  \n",
       "83               Yes                Yes  \n",
       "100              Yes                 No  \n",
       "122              Yes                Yes  \n",
       "144              Yes                 No  \n",
       "148              Yes                 No  "
      ]
     },
     "execution_count": 26,
     "metadata": {},
     "output_type": "execute_result"
    }
   ],
   "source": [
    "## Now let's sort so we only keep the top 13 most-complained-about companies:\n",
    "debt_df = c.filter(lambda x: len(x) > 1000)\n",
    "debt_df.head()"
   ]
  },
  {
   "cell_type": "code",
   "execution_count": 81,
   "metadata": {
    "collapsed": false
   },
   "outputs": [
    {
     "name": "stderr",
     "output_type": "stream",
     "text": [
      "/home/cassius/anaconda3/lib/python3.4/site-packages/matplotlib/__init__.py:892: UserWarning: axes.color_cycle is deprecated and replaced with axes.prop_cycle; please use the latter.\n",
      "  warnings.warn(self.msg_depr % (key, alt_key))\n"
     ]
    },
    {
     "data": {
      "text/plain": [
       "<seaborn.axisgrid.FacetGrid at 0x7fe64c1983c8>"
      ]
     },
     "execution_count": 81,
     "metadata": {},
     "output_type": "execute_result"
    },
    {
     "data": {
      "image/png": "[encoded data removed]",
      "text/plain": [
       "<matplotlib.figure.Figure at 0x7fe64d1d2780>"
      ]
     },
     "metadata": {},
     "output_type": "display_data"
    }
   ],
   "source": [
    "## So Encore Capital and Portfolio Recovery earned the top spots for debt collection\n",
    "## complaints.\n",
    "\n",
    "sns.factorplot(y=\"Company\",data=debt_df,palette='bright',kind='count',size=4,aspect=2.4,)"
   ]
  },
  {
   "cell_type": "code",
   "execution_count": 42,
   "metadata": {
    "collapsed": false
   },
   "outputs": [
    {
     "data": {
      "text/html": [
       "<div>\n",
       "<table border=\"1\" class=\"dataframe\">\n",
       "  <thead>\n",
       "    <tr style=\"text-align: right;\">\n",
       "      <th></th>\n",
       "      <th>Date received</th>\n",
       "      <th>Product</th>\n",
       "      <th>Issue</th>\n",
       "      <th>Sub-issue</th>\n",
       "      <th>Company</th>\n",
       "      <th>State</th>\n",
       "      <th>Date sent to company</th>\n",
       "      <th>Company response to consumer</th>\n",
       "      <th>Timely response?</th>\n",
       "      <th>Consumer disputed?</th>\n",
       "    </tr>\n",
       "  </thead>\n",
       "  <tbody>\n",
       "    <tr>\n",
       "      <th>6</th>\n",
       "      <td>12/31/2015</td>\n",
       "      <td>Credit reporting</td>\n",
       "      <td>Incorrect information on credit report</td>\n",
       "      <td>Personal information</td>\n",
       "      <td>Credit Karma, Inc.</td>\n",
       "      <td>NY</td>\n",
       "      <td>12/31/2015</td>\n",
       "      <td>Closed with explanation</td>\n",
       "      <td>Yes</td>\n",
       "      <td>No</td>\n",
       "    </tr>\n",
       "    <tr>\n",
       "      <th>11</th>\n",
       "      <td>12/30/2015</td>\n",
       "      <td>Credit reporting</td>\n",
       "      <td>Unable to get credit report/credit score</td>\n",
       "      <td>Problem getting my free annual report</td>\n",
       "      <td>Equifax</td>\n",
       "      <td>UT</td>\n",
       "      <td>12/30/2015</td>\n",
       "      <td>Closed with explanation</td>\n",
       "      <td>Yes</td>\n",
       "      <td>No</td>\n",
       "    </tr>\n",
       "    <tr>\n",
       "      <th>33</th>\n",
       "      <td>12/30/2015</td>\n",
       "      <td>Credit reporting</td>\n",
       "      <td>Improper use of my credit report</td>\n",
       "      <td>Report improperly shared by CRC</td>\n",
       "      <td>Equifax</td>\n",
       "      <td>CA</td>\n",
       "      <td>12/30/2015</td>\n",
       "      <td>Closed with explanation</td>\n",
       "      <td>Yes</td>\n",
       "      <td>No</td>\n",
       "    </tr>\n",
       "    <tr>\n",
       "      <th>35</th>\n",
       "      <td>12/30/2015</td>\n",
       "      <td>Credit reporting</td>\n",
       "      <td>Unable to get credit report/credit score</td>\n",
       "      <td>Problem getting report or credit score</td>\n",
       "      <td>Equifax</td>\n",
       "      <td>TX</td>\n",
       "      <td>12/30/2015</td>\n",
       "      <td>Closed with explanation</td>\n",
       "      <td>Yes</td>\n",
       "      <td>No</td>\n",
       "    </tr>\n",
       "    <tr>\n",
       "      <th>36</th>\n",
       "      <td>12/30/2015</td>\n",
       "      <td>Credit reporting</td>\n",
       "      <td>Incorrect information on credit report</td>\n",
       "      <td>Public record</td>\n",
       "      <td>Equifax</td>\n",
       "      <td>SC</td>\n",
       "      <td>12/30/2015</td>\n",
       "      <td>Closed with explanation</td>\n",
       "      <td>Yes</td>\n",
       "      <td>No</td>\n",
       "    </tr>\n",
       "  </tbody>\n",
       "</table>\n",
       "</div>"
      ],
      "text/plain": [
       "   Date received           Product                                     Issue  \\\n",
       "6     12/31/2015  Credit reporting    Incorrect information on credit report   \n",
       "11    12/30/2015  Credit reporting  Unable to get credit report/credit score   \n",
       "33    12/30/2015  Credit reporting          Improper use of my credit report   \n",
       "35    12/30/2015  Credit reporting  Unable to get credit report/credit score   \n",
       "36    12/30/2015  Credit reporting    Incorrect information on credit report   \n",
       "\n",
       "                                 Sub-issue             Company State  \\\n",
       "6                     Personal information  Credit Karma, Inc.    NY   \n",
       "11   Problem getting my free annual report             Equifax    UT   \n",
       "33         Report improperly shared by CRC             Equifax    CA   \n",
       "35  Problem getting report or credit score             Equifax    TX   \n",
       "36                           Public record             Equifax    SC   \n",
       "\n",
       "   Date sent to company Company response to consumer Timely response?  \\\n",
       "6            12/31/2015      Closed with explanation              Yes   \n",
       "11           12/30/2015      Closed with explanation              Yes   \n",
       "33           12/30/2015      Closed with explanation              Yes   \n",
       "35           12/30/2015      Closed with explanation              Yes   \n",
       "36           12/30/2015      Closed with explanation              Yes   \n",
       "\n",
       "   Consumer disputed?  \n",
       "6                  No  \n",
       "11                 No  \n",
       "33                 No  \n",
       "35                 No  \n",
       "36                 No  "
      ]
     },
     "execution_count": 42,
     "metadata": {},
     "output_type": "execute_result"
    }
   ],
   "source": [
    "## Let's check out the results for credit reporting complaints.\n",
    "crep_df = cc_df[cc_df['Product'] == 'Credit reporting']\n",
    "crep_df.head()"
   ]
  },
  {
   "cell_type": "code",
   "execution_count": 43,
   "metadata": {
    "collapsed": false
   },
   "outputs": [
    {
     "data": {
      "text/plain": [
       "Equifax                                                27148\n",
       "Experian                                               26653\n",
       "TransUnion                                             21948\n",
       "FNIS (Fidelity National Information Services, Inc.)      566\n",
       "Capital One                                              170\n",
       "LexisNexis                                               157\n",
       "Citibank                                                 130\n",
       "CoreLogic                                                129\n",
       "First Advantage Corporation                              110\n",
       "Innovis                                                  104\n",
       "Wells Fargo                                               86\n",
       "Credit Karma, Inc.                                        77\n",
       "Encore Capital Group                                      70\n",
       "Synchrony Bank                                            64\n",
       "JPMorgan Chase                                            62\n",
       "First Data Corporation                                    62\n",
       "Early Warning Services, LLC                               59\n",
       "HSBC                                                      44\n",
       "Resurgent Capital Services L.P.                           41\n",
       "HireRight Solutions, Inc.                                 40\n",
       "Bank of America                                           37\n",
       "Discover                                                  33\n",
       "Ocwen                                                     32\n",
       "Sterling Infosystems, Inc.                                30\n",
       "U.S. Bancorp                                              29\n",
       "Factual Data                                              29\n",
       "Portfolio Recovery Associates, Inc.                       28\n",
       "Enhanced Recovery Company, LLC                            28\n",
       "Clarity Services                                          25\n",
       "Amex                                                      24\n",
       "                                                       ...  \n",
       "GC Services Limited Partnership                            1\n",
       "Tulsa Adjustment Bureau                                    1\n",
       "Medical Business Bureau                                    1\n",
       "Credit Bureau Services, LLC                                1\n",
       "Merchants and Professional Bureau, Inc.                    1\n",
       "Tenant Data Services Inc                                   1\n",
       "TekCollect Inc.                                            1\n",
       "Duvera Billing Services, LLC                               1\n",
       "Stevens Business Service, Inc.                             1\n",
       "Tower Loan                                                 1\n",
       "NIC, Inc.                                                  1\n",
       "Deca Financial Services LLC                                1\n",
       "1st Franklin Financial Corporation                         1\n",
       "Minnesota Life Insurance Company                           1\n",
       "Adler Wallach & Associates, Inc.                           1\n",
       "American Credit Exchange, Inc                              1\n",
       "Fidelity Properties Inc.                                   1\n",
       "HOVG, LLC                                                  1\n",
       "Stanislaus Credit Control Service, Inc.                    1\n",
       "Partners Financial Services Inc                            1\n",
       "Medical Society Business Services, Inc.                    1\n",
       "Whitney Bank                                               1\n",
       "Asset Recovery Solutions, LLC                              1\n",
       "Sarma                                                      1\n",
       "Accelerated Financial Solutions, LLC                       1\n",
       "Credit Card Receivables Fund Incorporated                  1\n",
       "Asta Funding, Inc                                          1\n",
       "Choice Recovery, Inc.                                      1\n",
       "Data Line Credit Corp                                      1\n",
       "R & B Corporation of Virginia                              1\n",
       "Name: Company, dtype: int64"
      ]
     },
     "execution_count": 43,
     "metadata": {},
     "output_type": "execute_result"
    }
   ],
   "source": [
    "## Of course there are really only 3 companies known for credit reporting in the USA. \n",
    "crep_df['Company'].value_counts()"
   ]
  },
  {
   "cell_type": "code",
   "execution_count": 45,
   "metadata": {
    "collapsed": false
   },
   "outputs": [
    {
     "data": {
      "text/plain": [
       "Company\n",
       "Equifax       27148\n",
       "Experian      26653\n",
       "TransUnion    21948\n",
       "dtype: int64"
      ]
     },
     "execution_count": 45,
     "metadata": {},
     "output_type": "execute_result"
    }
   ],
   "source": [
    "r = crep_df.groupby('Company')\n",
    "size = r.size()\n",
    "most_comps = size[size > 600]\n",
    "most_comps"
   ]
  },
  {
   "cell_type": "code",
   "execution_count": 52,
   "metadata": {
    "collapsed": false
   },
   "outputs": [
    {
     "data": {
      "text/html": [
       "<div>\n",
       "<table border=\"1\" class=\"dataframe\">\n",
       "  <thead>\n",
       "    <tr style=\"text-align: right;\">\n",
       "      <th></th>\n",
       "      <th>Date received</th>\n",
       "      <th>Product</th>\n",
       "      <th>Issue</th>\n",
       "      <th>Sub-issue</th>\n",
       "      <th>Company</th>\n",
       "      <th>State</th>\n",
       "      <th>Date sent to company</th>\n",
       "      <th>Company response to consumer</th>\n",
       "      <th>Timely response?</th>\n",
       "      <th>Consumer disputed?</th>\n",
       "    </tr>\n",
       "  </thead>\n",
       "  <tbody>\n",
       "    <tr>\n",
       "      <th>11</th>\n",
       "      <td>12/30/2015</td>\n",
       "      <td>Credit reporting</td>\n",
       "      <td>Unable to get credit report/credit score</td>\n",
       "      <td>Problem getting my free annual report</td>\n",
       "      <td>Equifax</td>\n",
       "      <td>UT</td>\n",
       "      <td>12/30/2015</td>\n",
       "      <td>Closed with explanation</td>\n",
       "      <td>Yes</td>\n",
       "      <td>No</td>\n",
       "    </tr>\n",
       "    <tr>\n",
       "      <th>33</th>\n",
       "      <td>12/30/2015</td>\n",
       "      <td>Credit reporting</td>\n",
       "      <td>Improper use of my credit report</td>\n",
       "      <td>Report improperly shared by CRC</td>\n",
       "      <td>Equifax</td>\n",
       "      <td>CA</td>\n",
       "      <td>12/30/2015</td>\n",
       "      <td>Closed with explanation</td>\n",
       "      <td>Yes</td>\n",
       "      <td>No</td>\n",
       "    </tr>\n",
       "    <tr>\n",
       "      <th>35</th>\n",
       "      <td>12/30/2015</td>\n",
       "      <td>Credit reporting</td>\n",
       "      <td>Unable to get credit report/credit score</td>\n",
       "      <td>Problem getting report or credit score</td>\n",
       "      <td>Equifax</td>\n",
       "      <td>TX</td>\n",
       "      <td>12/30/2015</td>\n",
       "      <td>Closed with explanation</td>\n",
       "      <td>Yes</td>\n",
       "      <td>No</td>\n",
       "    </tr>\n",
       "    <tr>\n",
       "      <th>36</th>\n",
       "      <td>12/30/2015</td>\n",
       "      <td>Credit reporting</td>\n",
       "      <td>Incorrect information on credit report</td>\n",
       "      <td>Public record</td>\n",
       "      <td>Equifax</td>\n",
       "      <td>SC</td>\n",
       "      <td>12/30/2015</td>\n",
       "      <td>Closed with explanation</td>\n",
       "      <td>Yes</td>\n",
       "      <td>No</td>\n",
       "    </tr>\n",
       "    <tr>\n",
       "      <th>37</th>\n",
       "      <td>12/30/2015</td>\n",
       "      <td>Credit reporting</td>\n",
       "      <td>Incorrect information on credit report</td>\n",
       "      <td>Personal information</td>\n",
       "      <td>Equifax</td>\n",
       "      <td>IN</td>\n",
       "      <td>12/30/2015</td>\n",
       "      <td>Closed with explanation</td>\n",
       "      <td>Yes</td>\n",
       "      <td>No</td>\n",
       "    </tr>\n",
       "  </tbody>\n",
       "</table>\n",
       "</div>"
      ],
      "text/plain": [
       "   Date received           Product                                     Issue  \\\n",
       "11    12/30/2015  Credit reporting  Unable to get credit report/credit score   \n",
       "33    12/30/2015  Credit reporting          Improper use of my credit report   \n",
       "35    12/30/2015  Credit reporting  Unable to get credit report/credit score   \n",
       "36    12/30/2015  Credit reporting    Incorrect information on credit report   \n",
       "37    12/30/2015  Credit reporting    Incorrect information on credit report   \n",
       "\n",
       "                                 Sub-issue  Company State  \\\n",
       "11   Problem getting my free annual report  Equifax    UT   \n",
       "33         Report improperly shared by CRC  Equifax    CA   \n",
       "35  Problem getting report or credit score  Equifax    TX   \n",
       "36                           Public record  Equifax    SC   \n",
       "37                    Personal information  Equifax    IN   \n",
       "\n",
       "   Date sent to company Company response to consumer Timely response?  \\\n",
       "11           12/30/2015      Closed with explanation              Yes   \n",
       "33           12/30/2015      Closed with explanation              Yes   \n",
       "35           12/30/2015      Closed with explanation              Yes   \n",
       "36           12/30/2015      Closed with explanation              Yes   \n",
       "37           12/30/2015      Closed with explanation              Yes   \n",
       "\n",
       "   Consumer disputed?  \n",
       "11                 No  \n",
       "33                 No  \n",
       "35                 No  \n",
       "36                 No  \n",
       "37                 No  "
      ]
     },
     "execution_count": 52,
     "metadata": {},
     "output_type": "execute_result"
    }
   ],
   "source": [
    "crep_df = r.filter(lambda x: len(x) > 1000)\n",
    "crep_df.head()"
   ]
  },
  {
   "cell_type": "code",
   "execution_count": 80,
   "metadata": {
    "collapsed": false
   },
   "outputs": [
    {
     "name": "stderr",
     "output_type": "stream",
     "text": [
      "/home/cassius/anaconda3/lib/python3.4/site-packages/matplotlib/__init__.py:892: UserWarning: axes.color_cycle is deprecated and replaced with axes.prop_cycle; please use the latter.\n",
      "  warnings.warn(self.msg_depr % (key, alt_key))\n"
     ]
    },
    {
     "data": {
      "text/plain": [
       "<seaborn.axisgrid.FacetGrid at 0x7fe64d7d8048>"
      ]
     },
     "execution_count": 80,
     "metadata": {},
     "output_type": "execute_result"
    },
    {
     "data": {
      "image/png": "[encoded data removed]",
      "text/plain": [
       "<matplotlib.figure.Figure at 0x7fe647f0a630>"
      ]
     },
     "metadata": {},
     "output_type": "display_data"
    }
   ],
   "source": [
    "## We can see the big 3 are really competing - come on TransUnion, you're just \n",
    "## not trying!\n",
    "sns.factorplot(x='Company',data=crep_df,kind='count', palette='Set1',size=4,aspect=2.3)"
   ]
  },
  {
   "cell_type": "code",
   "execution_count": 59,
   "metadata": {
    "collapsed": false
   },
   "outputs": [
    {
     "data": {
      "text/html": [
       "<div>\n",
       "<table border=\"1\" class=\"dataframe\">\n",
       "  <thead>\n",
       "    <tr style=\"text-align: right;\">\n",
       "      <th></th>\n",
       "      <th>Date received</th>\n",
       "      <th>Product</th>\n",
       "      <th>Issue</th>\n",
       "      <th>Sub-issue</th>\n",
       "      <th>Company</th>\n",
       "      <th>State</th>\n",
       "      <th>Date sent to company</th>\n",
       "      <th>Company response to consumer</th>\n",
       "      <th>Timely response?</th>\n",
       "      <th>Consumer disputed?</th>\n",
       "    </tr>\n",
       "  </thead>\n",
       "  <tbody>\n",
       "    <tr>\n",
       "      <th>235</th>\n",
       "      <td>12/26/2015</td>\n",
       "      <td>Student loan</td>\n",
       "      <td>Dealing with my lender or servicer</td>\n",
       "      <td>Keep getting calls about my loan</td>\n",
       "      <td>KeyBank NA</td>\n",
       "      <td>NY</td>\n",
       "      <td>12/26/2015</td>\n",
       "      <td>Closed with explanation</td>\n",
       "      <td>Yes</td>\n",
       "      <td>No</td>\n",
       "    </tr>\n",
       "    <tr>\n",
       "      <th>283</th>\n",
       "      <td>12/24/2015</td>\n",
       "      <td>Student loan</td>\n",
       "      <td>Can't repay my loan</td>\n",
       "      <td>Can't get flexible payment options</td>\n",
       "      <td>Wells Fargo</td>\n",
       "      <td>MT</td>\n",
       "      <td>12/24/2015</td>\n",
       "      <td>Closed with monetary relief</td>\n",
       "      <td>Yes</td>\n",
       "      <td>No</td>\n",
       "    </tr>\n",
       "    <tr>\n",
       "      <th>497</th>\n",
       "      <td>12/22/2015</td>\n",
       "      <td>Student loan</td>\n",
       "      <td>Can't repay my loan</td>\n",
       "      <td>Can't get flexible payment options</td>\n",
       "      <td>JPMorgan Chase</td>\n",
       "      <td>NM</td>\n",
       "      <td>12/22/2015</td>\n",
       "      <td>Closed with explanation</td>\n",
       "      <td>Yes</td>\n",
       "      <td>No</td>\n",
       "    </tr>\n",
       "    <tr>\n",
       "      <th>528</th>\n",
       "      <td>12/22/2015</td>\n",
       "      <td>Student loan</td>\n",
       "      <td>Dealing with my lender or servicer</td>\n",
       "      <td>Trouble with how payments are handled</td>\n",
       "      <td>Vermont Student Assistance Corporation</td>\n",
       "      <td>NH</td>\n",
       "      <td>12/22/2015</td>\n",
       "      <td>Closed with explanation</td>\n",
       "      <td>Yes</td>\n",
       "      <td>No</td>\n",
       "    </tr>\n",
       "    <tr>\n",
       "      <th>548</th>\n",
       "      <td>12/22/2015</td>\n",
       "      <td>Student loan</td>\n",
       "      <td>Dealing with my lender or servicer</td>\n",
       "      <td>Trouble with how payments are handled</td>\n",
       "      <td>Wells Fargo</td>\n",
       "      <td>TX</td>\n",
       "      <td>12/22/2015</td>\n",
       "      <td>Closed with explanation</td>\n",
       "      <td>Yes</td>\n",
       "      <td>No</td>\n",
       "    </tr>\n",
       "  </tbody>\n",
       "</table>\n",
       "</div>"
      ],
      "text/plain": [
       "    Date received       Product                               Issue  \\\n",
       "235    12/26/2015  Student loan  Dealing with my lender or servicer   \n",
       "283    12/24/2015  Student loan                 Can't repay my loan   \n",
       "497    12/22/2015  Student loan                 Can't repay my loan   \n",
       "528    12/22/2015  Student loan  Dealing with my lender or servicer   \n",
       "548    12/22/2015  Student loan  Dealing with my lender or servicer   \n",
       "\n",
       "                                 Sub-issue  \\\n",
       "235       Keep getting calls about my loan   \n",
       "283     Can't get flexible payment options   \n",
       "497     Can't get flexible payment options   \n",
       "528  Trouble with how payments are handled   \n",
       "548  Trouble with how payments are handled   \n",
       "\n",
       "                                    Company State Date sent to company  \\\n",
       "235                              KeyBank NA    NY           12/26/2015   \n",
       "283                             Wells Fargo    MT           12/24/2015   \n",
       "497                          JPMorgan Chase    NM           12/22/2015   \n",
       "528  Vermont Student Assistance Corporation    NH           12/22/2015   \n",
       "548                             Wells Fargo    TX           12/22/2015   \n",
       "\n",
       "    Company response to consumer Timely response? Consumer disputed?  \n",
       "235      Closed with explanation              Yes                 No  \n",
       "283  Closed with monetary relief              Yes                 No  \n",
       "497      Closed with explanation              Yes                 No  \n",
       "528      Closed with explanation              Yes                 No  \n",
       "548      Closed with explanation              Yes                 No  "
      ]
     },
     "execution_count": 59,
     "metadata": {},
     "output_type": "execute_result"
    }
   ],
   "source": [
    "## Who's rockin' the student loan crowd? \n",
    "stdnt_df = cc_df[cc_df['Product'] == 'Student loan']\n",
    "stdnt_df.head()"
   ]
  },
  {
   "cell_type": "code",
   "execution_count": 62,
   "metadata": {
    "collapsed": false
   },
   "outputs": [
    {
     "data": {
      "text/plain": [
       "Navient                   6096\n",
       "AES/PHEAA                 1474\n",
       "Wells Fargo                913\n",
       "Sallie Mae                 716\n",
       "JPMorgan Chase             678\n",
       "Discover                   553\n",
       "Citibank                   490\n",
       "Genesis Lending            421\n",
       "ACS Education Services     393\n",
       "KeyBank NA                 347\n",
       "Name: Company, dtype: int64"
      ]
     },
     "execution_count": 62,
     "metadata": {},
     "output_type": "execute_result"
    }
   ],
   "source": [
    "stdnt_df['Company'].value_counts().head(10)"
   ]
  },
  {
   "cell_type": "code",
   "execution_count": 65,
   "metadata": {
    "collapsed": false
   },
   "outputs": [
    {
     "data": {
      "text/plain": [
       "Company\n",
       "ACS Education Services     393\n",
       "AES/PHEAA                 1474\n",
       "Citibank                   490\n",
       "Discover                   553\n",
       "Genesis Lending            421\n",
       "JPMorgan Chase             678\n",
       "KeyBank NA                 347\n",
       "Navient                   6096\n",
       "Sallie Mae                 716\n",
       "Wells Fargo                913\n",
       "dtype: int64"
      ]
     },
     "execution_count": 65,
     "metadata": {},
     "output_type": "execute_result"
    }
   ],
   "source": [
    "## With all the press dedicated to it, it's kind of hard to believe there \n",
    "## aren't more complaints in general with respect to student loans. \n",
    "s = stdnt_df.groupby('Company')\n",
    "size = s.size()\n",
    "most_comps = size[size > 300]\n",
    "most_comps"
   ]
  },
  {
   "cell_type": "code",
   "execution_count": 69,
   "metadata": {
    "collapsed": true
   },
   "outputs": [],
   "source": [
    "stdnt_df = s.filter(lambda x: len(x) > 300)"
   ]
  },
  {
   "cell_type": "code",
   "execution_count": 77,
   "metadata": {
    "collapsed": false
   },
   "outputs": [
    {
     "name": "stderr",
     "output_type": "stream",
     "text": [
      "/home/cassius/anaconda3/lib/python3.4/site-packages/matplotlib/__init__.py:892: UserWarning: axes.color_cycle is deprecated and replaced with axes.prop_cycle; please use the latter.\n",
      "  warnings.warn(self.msg_depr % (key, alt_key))\n"
     ]
    },
    {
     "data": {
      "text/plain": [
       "<seaborn.axisgrid.FacetGrid at 0x7fe655a7be48>"
      ]
     },
     "execution_count": 77,
     "metadata": {},
     "output_type": "execute_result"
    },
    {
     "data": {
      "image/png": "[encoded data removed]",
      "text/plain": [
       "<matplotlib.figure.Figure at 0x7fe64d18a080>"
      ]
     },
     "metadata": {},
     "output_type": "display_data"
    }
   ],
   "source": [
    "## Looks like Navient takes pretty much the entire cake\n",
    "## in the student loan complaint department.\n",
    "sns.factorplot(y='Company',data=stdnt_df,kind='count',palette='Blues_d',size=4,aspect=2.4)"
   ]
  }
 ],
 "metadata": {
  "kernelspec": {
   "display_name": "Python 3",
   "language": "python",
   "name": "python3"
  },
  "language_info": {
   "codemirror_mode": {
    "name": "ipython",
    "version": 3
   },
   "file_extension": ".py",
   "mimetype": "text/x-python",
   "name": "python",
   "nbconvert_exporter": "python",
   "pygments_lexer": "ipython3",
   "version": "3.4.3"
  }
 },
 "nbformat": 4,
 "nbformat_minor": 0
}
