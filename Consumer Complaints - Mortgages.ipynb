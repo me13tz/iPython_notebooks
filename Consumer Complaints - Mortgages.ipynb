{
 "cells": [
  {
   "cell_type": "code",
   "execution_count": 35,
   "metadata": {
    "collapsed": true
   },
   "outputs": [],
   "source": [
    "##This is a project I've undertaken to check out an API from www.kaggle.com containing data from \n",
    "##consumer complaints. I have eliminated many of the companies based on the number of complaints,\n",
    "##narrowing it down to a 'top ten'. So in order to have made it into my data analysis, you really \n",
    "##need to have made a lot of people mad."
   ]
  },
  {
   "cell_type": "code",
   "execution_count": 36,
   "metadata": {
    "collapsed": false
   },
   "outputs": [],
   "source": [
    "#Standard\n",
    "import numpy as np\n",
    "import pandas as pd\n",
    "from numpy.random import randn\n",
    "#Stats\n",
    "from scipy import stats\n",
    "#Plotting\n",
    "import matplotlib as mpl\n",
    "import matplotlib.pyplot as plt\n",
    "import seaborn as sns\n",
    "#for inline output in iPython Notebook:\n",
    "%matplotlib inline"
   ]
  },
  {
   "cell_type": "code",
   "execution_count": 37,
   "metadata": {
    "collapsed": false
   },
   "outputs": [
    {
     "name": "stderr",
     "output_type": "stream",
     "text": [
      "/home/cassius/anaconda3/lib/python3.4/site-packages/IPython/core/interactiveshell.py:2902: DtypeWarning: Columns (5,6) have mixed types. Specify dtype option on import or set low_memory=False.\n",
      "  interactivity=interactivity, compiler=compiler, result=result)\n"
     ]
    },
    {
     "data": {
      "text/html": [
       "<div>\n",
       "<table border=\"1\" class=\"dataframe\">\n",
       "  <thead>\n",
       "    <tr style=\"text-align: right;\">\n",
       "      <th></th>\n",
       "      <th>Date received</th>\n",
       "      <th>Product</th>\n",
       "      <th>Sub-product</th>\n",
       "      <th>Issue</th>\n",
       "      <th>Sub-issue</th>\n",
       "      <th>Consumer complaint narrative</th>\n",
       "      <th>Company public response</th>\n",
       "      <th>Company</th>\n",
       "      <th>State</th>\n",
       "      <th>ZIP code</th>\n",
       "      <th>Submitted via</th>\n",
       "      <th>Date sent to company</th>\n",
       "      <th>Company response to consumer</th>\n",
       "      <th>Timely response?</th>\n",
       "      <th>Consumer disputed?</th>\n",
       "      <th>Complaint ID</th>\n",
       "    </tr>\n",
       "  </thead>\n",
       "  <tbody>\n",
       "    <tr>\n",
       "      <th>0</th>\n",
       "      <td>01/01/2016</td>\n",
       "      <td>Debt collection</td>\n",
       "      <td>Other (i.e. phone, health club, etc.)</td>\n",
       "      <td>Cont'd attempts collect debt not owed</td>\n",
       "      <td>Debt is not mine</td>\n",
       "      <td>NaN</td>\n",
       "      <td>NaN</td>\n",
       "      <td>Lamont, Hanley &amp; Associates, Inc.</td>\n",
       "      <td>PA</td>\n",
       "      <td>194XX</td>\n",
       "      <td>Web</td>\n",
       "      <td>01/01/2016</td>\n",
       "      <td>Closed with explanation</td>\n",
       "      <td>Yes</td>\n",
       "      <td>Yes</td>\n",
       "      <td>1723490</td>\n",
       "    </tr>\n",
       "    <tr>\n",
       "      <th>1</th>\n",
       "      <td>12/31/2015</td>\n",
       "      <td>Debt collection</td>\n",
       "      <td>Medical</td>\n",
       "      <td>Cont'd attempts collect debt not owed</td>\n",
       "      <td>Debt is not mine</td>\n",
       "      <td>NaN</td>\n",
       "      <td>Company believes it acted appropriately as aut...</td>\n",
       "      <td>Lamont, Hanley &amp; Associates, Inc.</td>\n",
       "      <td>MA</td>\n",
       "      <td>020XX</td>\n",
       "      <td>Web</td>\n",
       "      <td>12/31/2015</td>\n",
       "      <td>Closed with explanation</td>\n",
       "      <td>Yes</td>\n",
       "      <td>No</td>\n",
       "      <td>1724395</td>\n",
       "    </tr>\n",
       "    <tr>\n",
       "      <th>2</th>\n",
       "      <td>12/31/2015</td>\n",
       "      <td>Debt collection</td>\n",
       "      <td>I do not know</td>\n",
       "      <td>Cont'd attempts collect debt not owed</td>\n",
       "      <td>Debt is not mine</td>\n",
       "      <td>NaN</td>\n",
       "      <td>Company can't verify or dispute the facts in t...</td>\n",
       "      <td>Focus Holding Company</td>\n",
       "      <td>AL</td>\n",
       "      <td>36477</td>\n",
       "      <td>Web</td>\n",
       "      <td>12/31/2015</td>\n",
       "      <td>Closed with explanation</td>\n",
       "      <td>Yes</td>\n",
       "      <td>No</td>\n",
       "      <td>1724294</td>\n",
       "    </tr>\n",
       "    <tr>\n",
       "      <th>3</th>\n",
       "      <td>12/31/2015</td>\n",
       "      <td>Bank account or service</td>\n",
       "      <td>Other bank product/service</td>\n",
       "      <td>Account opening, closing, or management</td>\n",
       "      <td>NaN</td>\n",
       "      <td>NaN</td>\n",
       "      <td>NaN</td>\n",
       "      <td>Navy FCU</td>\n",
       "      <td>GA</td>\n",
       "      <td>30045</td>\n",
       "      <td>Web</td>\n",
       "      <td>12/31/2015</td>\n",
       "      <td>In progress</td>\n",
       "      <td>Yes</td>\n",
       "      <td>No</td>\n",
       "      <td>1723811</td>\n",
       "    </tr>\n",
       "    <tr>\n",
       "      <th>4</th>\n",
       "      <td>12/31/2015</td>\n",
       "      <td>Debt collection</td>\n",
       "      <td>Auto</td>\n",
       "      <td>Disclosure verification of debt</td>\n",
       "      <td>Right to dispute notice not received</td>\n",
       "      <td>NaN</td>\n",
       "      <td>NaN</td>\n",
       "      <td>Caine &amp; Weiner Co. Inc.</td>\n",
       "      <td>PA</td>\n",
       "      <td>191XX</td>\n",
       "      <td>Web</td>\n",
       "      <td>12/31/2015</td>\n",
       "      <td>Closed with explanation</td>\n",
       "      <td>Yes</td>\n",
       "      <td>No</td>\n",
       "      <td>1722410</td>\n",
       "    </tr>\n",
       "    <tr>\n",
       "      <th>5</th>\n",
       "      <td>12/31/2015</td>\n",
       "      <td>Debt collection</td>\n",
       "      <td>Other (i.e. phone, health club, etc.)</td>\n",
       "      <td>Communication tactics</td>\n",
       "      <td>Frequent or repeated calls</td>\n",
       "      <td>NaN</td>\n",
       "      <td>Company chooses not to provide a public response</td>\n",
       "      <td>Mariner Finance, LLC</td>\n",
       "      <td>NC</td>\n",
       "      <td>272XX</td>\n",
       "      <td>Web</td>\n",
       "      <td>12/31/2015</td>\n",
       "      <td>Closed with explanation</td>\n",
       "      <td>Yes</td>\n",
       "      <td>No</td>\n",
       "      <td>1721779</td>\n",
       "    </tr>\n",
       "    <tr>\n",
       "      <th>6</th>\n",
       "      <td>12/31/2015</td>\n",
       "      <td>Credit reporting</td>\n",
       "      <td>NaN</td>\n",
       "      <td>Incorrect information on credit report</td>\n",
       "      <td>Personal information</td>\n",
       "      <td>NaN</td>\n",
       "      <td>Company believes complaint caused principally ...</td>\n",
       "      <td>Credit Karma, Inc.</td>\n",
       "      <td>NY</td>\n",
       "      <td>11735</td>\n",
       "      <td>Web</td>\n",
       "      <td>12/31/2015</td>\n",
       "      <td>Closed with explanation</td>\n",
       "      <td>Yes</td>\n",
       "      <td>No</td>\n",
       "      <td>1722137</td>\n",
       "    </tr>\n",
       "    <tr>\n",
       "      <th>7</th>\n",
       "      <td>12/30/2015</td>\n",
       "      <td>Debt collection</td>\n",
       "      <td>Medical</td>\n",
       "      <td>Cont'd attempts collect debt not owed</td>\n",
       "      <td>Debt is not mine</td>\n",
       "      <td>NaN</td>\n",
       "      <td>NaN</td>\n",
       "      <td>Transworld Systems Inc.</td>\n",
       "      <td>CA</td>\n",
       "      <td>91436</td>\n",
       "      <td>Web</td>\n",
       "      <td>12/30/2015</td>\n",
       "      <td>In progress</td>\n",
       "      <td>Yes</td>\n",
       "      <td>No</td>\n",
       "      <td>1722179</td>\n",
       "    </tr>\n",
       "    <tr>\n",
       "      <th>8</th>\n",
       "      <td>12/30/2015</td>\n",
       "      <td>Debt collection</td>\n",
       "      <td>Other (i.e. phone, health club, etc.)</td>\n",
       "      <td>Improper contact or sharing of info</td>\n",
       "      <td>Talked to a third party about my debt</td>\n",
       "      <td>NaN</td>\n",
       "      <td>NaN</td>\n",
       "      <td>RMS-Recovery Management Services, Inc.</td>\n",
       "      <td>VA</td>\n",
       "      <td>22207</td>\n",
       "      <td>Web</td>\n",
       "      <td>12/30/2015</td>\n",
       "      <td>Closed with explanation</td>\n",
       "      <td>Yes</td>\n",
       "      <td>No</td>\n",
       "      <td>1722328</td>\n",
       "    </tr>\n",
       "    <tr>\n",
       "      <th>9</th>\n",
       "      <td>12/30/2015</td>\n",
       "      <td>Consumer Loan</td>\n",
       "      <td>Vehicle loan</td>\n",
       "      <td>Taking out the loan or lease</td>\n",
       "      <td>NaN</td>\n",
       "      <td>NaN</td>\n",
       "      <td>NaN</td>\n",
       "      <td>Ally Financial Inc.</td>\n",
       "      <td>TX</td>\n",
       "      <td>770XX</td>\n",
       "      <td>Web</td>\n",
       "      <td>12/30/2015</td>\n",
       "      <td>In progress</td>\n",
       "      <td>Yes</td>\n",
       "      <td>No</td>\n",
       "      <td>1721929</td>\n",
       "    </tr>\n",
       "    <tr>\n",
       "      <th>10</th>\n",
       "      <td>12/30/2015</td>\n",
       "      <td>Bank account or service</td>\n",
       "      <td>Other bank product/service</td>\n",
       "      <td>Account opening, closing, or management</td>\n",
       "      <td>NaN</td>\n",
       "      <td>NaN</td>\n",
       "      <td>Company chooses not to provide a public response</td>\n",
       "      <td>Wells Fargo</td>\n",
       "      <td>CA</td>\n",
       "      <td>949XX</td>\n",
       "      <td>Web</td>\n",
       "      <td>12/30/2015</td>\n",
       "      <td>Closed with explanation</td>\n",
       "      <td>Yes</td>\n",
       "      <td>No</td>\n",
       "      <td>1722412</td>\n",
       "    </tr>\n",
       "    <tr>\n",
       "      <th>11</th>\n",
       "      <td>12/30/2015</td>\n",
       "      <td>Credit reporting</td>\n",
       "      <td>NaN</td>\n",
       "      <td>Unable to get credit report/credit score</td>\n",
       "      <td>Problem getting my free annual report</td>\n",
       "      <td>NaN</td>\n",
       "      <td>NaN</td>\n",
       "      <td>Equifax</td>\n",
       "      <td>UT</td>\n",
       "      <td>846XX</td>\n",
       "      <td>Web</td>\n",
       "      <td>12/30/2015</td>\n",
       "      <td>Closed with explanation</td>\n",
       "      <td>Yes</td>\n",
       "      <td>No</td>\n",
       "      <td>1722386</td>\n",
       "    </tr>\n",
       "    <tr>\n",
       "      <th>12</th>\n",
       "      <td>12/30/2015</td>\n",
       "      <td>Debt collection</td>\n",
       "      <td>Medical</td>\n",
       "      <td>Cont'd attempts collect debt not owed</td>\n",
       "      <td>Debt is not mine</td>\n",
       "      <td>NaN</td>\n",
       "      <td>NaN</td>\n",
       "      <td>COLLECTION PROFESSIONALS INC (Illinois)</td>\n",
       "      <td>IL</td>\n",
       "      <td>60443</td>\n",
       "      <td>Web</td>\n",
       "      <td>12/30/2015</td>\n",
       "      <td>Closed with explanation</td>\n",
       "      <td>Yes</td>\n",
       "      <td>No</td>\n",
       "      <td>1723051</td>\n",
       "    </tr>\n",
       "    <tr>\n",
       "      <th>13</th>\n",
       "      <td>12/30/2015</td>\n",
       "      <td>Debt collection</td>\n",
       "      <td>Other (i.e. phone, health club, etc.)</td>\n",
       "      <td>False statements or representation</td>\n",
       "      <td>Attempted to collect wrong amount</td>\n",
       "      <td>NaN</td>\n",
       "      <td>NaN</td>\n",
       "      <td>Hunter Warfield, Inc.</td>\n",
       "      <td>AL</td>\n",
       "      <td>366XX</td>\n",
       "      <td>Web</td>\n",
       "      <td>12/30/2015</td>\n",
       "      <td>In progress</td>\n",
       "      <td>Yes</td>\n",
       "      <td>No</td>\n",
       "      <td>1721464</td>\n",
       "    </tr>\n",
       "    <tr>\n",
       "      <th>14</th>\n",
       "      <td>12/30/2015</td>\n",
       "      <td>Debt collection</td>\n",
       "      <td>Other (i.e. phone, health club, etc.)</td>\n",
       "      <td>Disclosure verification of debt</td>\n",
       "      <td>Not given enough info to verify debt</td>\n",
       "      <td>NaN</td>\n",
       "      <td>NaN</td>\n",
       "      <td>Navy FCU</td>\n",
       "      <td>FL</td>\n",
       "      <td>32141</td>\n",
       "      <td>Referral</td>\n",
       "      <td>12/31/2015</td>\n",
       "      <td>In progress</td>\n",
       "      <td>Yes</td>\n",
       "      <td>No</td>\n",
       "      <td>1721994</td>\n",
       "    </tr>\n",
       "  </tbody>\n",
       "</table>\n",
       "</div>"
      ],
      "text/plain": [
       "   Date received                  Product  \\\n",
       "0     01/01/2016          Debt collection   \n",
       "1     12/31/2015          Debt collection   \n",
       "2     12/31/2015          Debt collection   \n",
       "3     12/31/2015  Bank account or service   \n",
       "4     12/31/2015          Debt collection   \n",
       "5     12/31/2015          Debt collection   \n",
       "6     12/31/2015         Credit reporting   \n",
       "7     12/30/2015          Debt collection   \n",
       "8     12/30/2015          Debt collection   \n",
       "9     12/30/2015            Consumer Loan   \n",
       "10    12/30/2015  Bank account or service   \n",
       "11    12/30/2015         Credit reporting   \n",
       "12    12/30/2015          Debt collection   \n",
       "13    12/30/2015          Debt collection   \n",
       "14    12/30/2015          Debt collection   \n",
       "\n",
       "                              Sub-product  \\\n",
       "0   Other (i.e. phone, health club, etc.)   \n",
       "1                                 Medical   \n",
       "2                           I do not know   \n",
       "3              Other bank product/service   \n",
       "4                                    Auto   \n",
       "5   Other (i.e. phone, health club, etc.)   \n",
       "6                                     NaN   \n",
       "7                                 Medical   \n",
       "8   Other (i.e. phone, health club, etc.)   \n",
       "9                            Vehicle loan   \n",
       "10             Other bank product/service   \n",
       "11                                    NaN   \n",
       "12                                Medical   \n",
       "13  Other (i.e. phone, health club, etc.)   \n",
       "14  Other (i.e. phone, health club, etc.)   \n",
       "\n",
       "                                       Issue  \\\n",
       "0      Cont'd attempts collect debt not owed   \n",
       "1      Cont'd attempts collect debt not owed   \n",
       "2      Cont'd attempts collect debt not owed   \n",
       "3    Account opening, closing, or management   \n",
       "4            Disclosure verification of debt   \n",
       "5                      Communication tactics   \n",
       "6     Incorrect information on credit report   \n",
       "7      Cont'd attempts collect debt not owed   \n",
       "8        Improper contact or sharing of info   \n",
       "9               Taking out the loan or lease   \n",
       "10   Account opening, closing, or management   \n",
       "11  Unable to get credit report/credit score   \n",
       "12     Cont'd attempts collect debt not owed   \n",
       "13        False statements or representation   \n",
       "14           Disclosure verification of debt   \n",
       "\n",
       "                                Sub-issue Consumer complaint narrative  \\\n",
       "0                        Debt is not mine                          NaN   \n",
       "1                        Debt is not mine                          NaN   \n",
       "2                        Debt is not mine                          NaN   \n",
       "3                                     NaN                          NaN   \n",
       "4    Right to dispute notice not received                          NaN   \n",
       "5              Frequent or repeated calls                          NaN   \n",
       "6                    Personal information                          NaN   \n",
       "7                        Debt is not mine                          NaN   \n",
       "8   Talked to a third party about my debt                          NaN   \n",
       "9                                     NaN                          NaN   \n",
       "10                                    NaN                          NaN   \n",
       "11  Problem getting my free annual report                          NaN   \n",
       "12                       Debt is not mine                          NaN   \n",
       "13      Attempted to collect wrong amount                          NaN   \n",
       "14   Not given enough info to verify debt                          NaN   \n",
       "\n",
       "                              Company public response  \\\n",
       "0                                                 NaN   \n",
       "1   Company believes it acted appropriately as aut...   \n",
       "2   Company can't verify or dispute the facts in t...   \n",
       "3                                                 NaN   \n",
       "4                                                 NaN   \n",
       "5    Company chooses not to provide a public response   \n",
       "6   Company believes complaint caused principally ...   \n",
       "7                                                 NaN   \n",
       "8                                                 NaN   \n",
       "9                                                 NaN   \n",
       "10   Company chooses not to provide a public response   \n",
       "11                                                NaN   \n",
       "12                                                NaN   \n",
       "13                                                NaN   \n",
       "14                                                NaN   \n",
       "\n",
       "                                    Company State ZIP code Submitted via  \\\n",
       "0         Lamont, Hanley & Associates, Inc.    PA    194XX           Web   \n",
       "1         Lamont, Hanley & Associates, Inc.    MA    020XX           Web   \n",
       "2                     Focus Holding Company    AL    36477           Web   \n",
       "3                                  Navy FCU    GA    30045           Web   \n",
       "4                   Caine & Weiner Co. Inc.    PA    191XX           Web   \n",
       "5                      Mariner Finance, LLC    NC    272XX           Web   \n",
       "6                        Credit Karma, Inc.    NY    11735           Web   \n",
       "7                   Transworld Systems Inc.    CA    91436           Web   \n",
       "8    RMS-Recovery Management Services, Inc.    VA    22207           Web   \n",
       "9                       Ally Financial Inc.    TX    770XX           Web   \n",
       "10                              Wells Fargo    CA    949XX           Web   \n",
       "11                                  Equifax    UT    846XX           Web   \n",
       "12  COLLECTION PROFESSIONALS INC (Illinois)    IL    60443           Web   \n",
       "13                    Hunter Warfield, Inc.    AL    366XX           Web   \n",
       "14                                 Navy FCU    FL    32141      Referral   \n",
       "\n",
       "   Date sent to company Company response to consumer Timely response?  \\\n",
       "0            01/01/2016      Closed with explanation              Yes   \n",
       "1            12/31/2015      Closed with explanation              Yes   \n",
       "2            12/31/2015      Closed with explanation              Yes   \n",
       "3            12/31/2015                  In progress              Yes   \n",
       "4            12/31/2015      Closed with explanation              Yes   \n",
       "5            12/31/2015      Closed with explanation              Yes   \n",
       "6            12/31/2015      Closed with explanation              Yes   \n",
       "7            12/30/2015                  In progress              Yes   \n",
       "8            12/30/2015      Closed with explanation              Yes   \n",
       "9            12/30/2015                  In progress              Yes   \n",
       "10           12/30/2015      Closed with explanation              Yes   \n",
       "11           12/30/2015      Closed with explanation              Yes   \n",
       "12           12/30/2015      Closed with explanation              Yes   \n",
       "13           12/30/2015                  In progress              Yes   \n",
       "14           12/31/2015                  In progress              Yes   \n",
       "\n",
       "   Consumer disputed?  Complaint ID  \n",
       "0                 Yes       1723490  \n",
       "1                  No       1724395  \n",
       "2                  No       1724294  \n",
       "3                  No       1723811  \n",
       "4                  No       1722410  \n",
       "5                  No       1721779  \n",
       "6                  No       1722137  \n",
       "7                  No       1722179  \n",
       "8                  No       1722328  \n",
       "9                  No       1721929  \n",
       "10                 No       1722412  \n",
       "11                 No       1722386  \n",
       "12                 No       1723051  \n",
       "13                 No       1721464  \n",
       "14                 No       1721994  "
      ]
     },
     "execution_count": 37,
     "metadata": {},
     "output_type": "execute_result"
    }
   ],
   "source": [
    "cc_df = pd.read_csv('Consumer_Complaints.csv')\n",
    "cc_df = pd.DataFrame(cc_df)\n",
    "cc_df.head(15)"
   ]
  },
  {
   "cell_type": "code",
   "execution_count": 38,
   "metadata": {
    "collapsed": false
   },
   "outputs": [
    {
     "name": "stdout",
     "output_type": "stream",
     "text": [
      "<class 'pandas.core.frame.DataFrame'>\n",
      "Int64Index: 501193 entries, 0 to 501192\n",
      "Data columns (total 16 columns):\n",
      "Date received                   501193 non-null object\n",
      "Product                         501193 non-null object\n",
      "Sub-product                     361520 non-null object\n",
      "Issue                           501182 non-null object\n",
      "Sub-issue                       186245 non-null object\n",
      "Consumer complaint narrative    45191 non-null object\n",
      "Company public response         57932 non-null object\n",
      "Company                         501193 non-null object\n",
      "State                           494489 non-null object\n",
      "ZIP code                        496577 non-null object\n",
      "Submitted via                   501193 non-null object\n",
      "Date sent to company            501193 non-null object\n",
      "Company response to consumer    501193 non-null object\n",
      "Timely response?                501193 non-null object\n",
      "Consumer disputed?              501193 non-null object\n",
      "Complaint ID                    501193 non-null int64\n",
      "dtypes: int64(1), object(15)\n",
      "memory usage: 65.0+ MB\n"
     ]
    }
   ],
   "source": [
    "cc_df.info()"
   ]
  },
  {
   "cell_type": "code",
   "execution_count": 39,
   "metadata": {
    "collapsed": false
   },
   "outputs": [],
   "source": [
    "## Grouping by company \n",
    "g = cc_df.groupby('Company')"
   ]
  },
  {
   "cell_type": "code",
   "execution_count": 40,
   "metadata": {
    "collapsed": false
   },
   "outputs": [
    {
     "data": {
      "text/plain": [
       "Company\n",
       "Bank of America        53044\n",
       "Capital One            14398\n",
       "Citibank               23449\n",
       "Equifax                27252\n",
       "Experian               26774\n",
       "JPMorgan Chase         31192\n",
       "Nationstar Mortgage    12114\n",
       "Ocwen                  19759\n",
       "TransUnion             22013\n",
       "Wells Fargo            39109\n",
       "dtype: int64"
      ]
     },
     "execution_count": 40,
     "metadata": {},
     "output_type": "execute_result"
    }
   ],
   "source": [
    "## Figure out the top ten offenders by number of complaints. If you pissed off more than 10,000 \n",
    "## people, congratulations you're in!\n",
    "size = g.size()\n",
    "most_comps = size[size > 10000]\n",
    "most_comps"
   ]
  },
  {
   "cell_type": "code",
   "execution_count": 41,
   "metadata": {
    "collapsed": false
   },
   "outputs": [
    {
     "data": {
      "text/html": [
       "<div>\n",
       "<table border=\"1\" class=\"dataframe\">\n",
       "  <thead>\n",
       "    <tr style=\"text-align: right;\">\n",
       "      <th></th>\n",
       "      <th>Date received</th>\n",
       "      <th>Product</th>\n",
       "      <th>Sub-product</th>\n",
       "      <th>Issue</th>\n",
       "      <th>Sub-issue</th>\n",
       "      <th>Consumer complaint narrative</th>\n",
       "      <th>Company public response</th>\n",
       "      <th>Company</th>\n",
       "      <th>State</th>\n",
       "      <th>ZIP code</th>\n",
       "      <th>Submitted via</th>\n",
       "      <th>Date sent to company</th>\n",
       "      <th>Company response to consumer</th>\n",
       "      <th>Timely response?</th>\n",
       "      <th>Consumer disputed?</th>\n",
       "      <th>Complaint ID</th>\n",
       "    </tr>\n",
       "  </thead>\n",
       "  <tbody>\n",
       "    <tr>\n",
       "      <th>10</th>\n",
       "      <td>12/30/2015</td>\n",
       "      <td>Bank account or service</td>\n",
       "      <td>Other bank product/service</td>\n",
       "      <td>Account opening, closing, or management</td>\n",
       "      <td>NaN</td>\n",
       "      <td>NaN</td>\n",
       "      <td>Company chooses not to provide a public response</td>\n",
       "      <td>Wells Fargo</td>\n",
       "      <td>CA</td>\n",
       "      <td>949XX</td>\n",
       "      <td>Web</td>\n",
       "      <td>12/30/2015</td>\n",
       "      <td>Closed with explanation</td>\n",
       "      <td>Yes</td>\n",
       "      <td>No</td>\n",
       "      <td>1722412</td>\n",
       "    </tr>\n",
       "    <tr>\n",
       "      <th>11</th>\n",
       "      <td>12/30/2015</td>\n",
       "      <td>Credit reporting</td>\n",
       "      <td>NaN</td>\n",
       "      <td>Unable to get credit report/credit score</td>\n",
       "      <td>Problem getting my free annual report</td>\n",
       "      <td>NaN</td>\n",
       "      <td>NaN</td>\n",
       "      <td>Equifax</td>\n",
       "      <td>UT</td>\n",
       "      <td>846XX</td>\n",
       "      <td>Web</td>\n",
       "      <td>12/30/2015</td>\n",
       "      <td>Closed with explanation</td>\n",
       "      <td>Yes</td>\n",
       "      <td>No</td>\n",
       "      <td>1722386</td>\n",
       "    </tr>\n",
       "    <tr>\n",
       "      <th>22</th>\n",
       "      <td>12/30/2015</td>\n",
       "      <td>Bank account or service</td>\n",
       "      <td>(CD) Certificate of deposit</td>\n",
       "      <td>Account opening, closing, or management</td>\n",
       "      <td>NaN</td>\n",
       "      <td>NaN</td>\n",
       "      <td>Company chooses not to provide a public response</td>\n",
       "      <td>Wells Fargo</td>\n",
       "      <td>WA</td>\n",
       "      <td>98498</td>\n",
       "      <td>Referral</td>\n",
       "      <td>12/30/2015</td>\n",
       "      <td>Closed with explanation</td>\n",
       "      <td>Yes</td>\n",
       "      <td>No</td>\n",
       "      <td>1721558</td>\n",
       "    </tr>\n",
       "    <tr>\n",
       "      <th>33</th>\n",
       "      <td>12/30/2015</td>\n",
       "      <td>Credit reporting</td>\n",
       "      <td>NaN</td>\n",
       "      <td>Improper use of my credit report</td>\n",
       "      <td>Report improperly shared by CRC</td>\n",
       "      <td>NaN</td>\n",
       "      <td>NaN</td>\n",
       "      <td>Equifax</td>\n",
       "      <td>CA</td>\n",
       "      <td>902XX</td>\n",
       "      <td>Web</td>\n",
       "      <td>12/30/2015</td>\n",
       "      <td>Closed with explanation</td>\n",
       "      <td>Yes</td>\n",
       "      <td>No</td>\n",
       "      <td>1722612</td>\n",
       "    </tr>\n",
       "    <tr>\n",
       "      <th>35</th>\n",
       "      <td>12/30/2015</td>\n",
       "      <td>Credit reporting</td>\n",
       "      <td>NaN</td>\n",
       "      <td>Unable to get credit report/credit score</td>\n",
       "      <td>Problem getting report or credit score</td>\n",
       "      <td>NaN</td>\n",
       "      <td>NaN</td>\n",
       "      <td>Equifax</td>\n",
       "      <td>TX</td>\n",
       "      <td>75249</td>\n",
       "      <td>Phone</td>\n",
       "      <td>12/30/2015</td>\n",
       "      <td>Closed with explanation</td>\n",
       "      <td>Yes</td>\n",
       "      <td>No</td>\n",
       "      <td>1722260</td>\n",
       "    </tr>\n",
       "  </tbody>\n",
       "</table>\n",
       "</div>"
      ],
      "text/plain": [
       "   Date received                  Product                  Sub-product  \\\n",
       "10    12/30/2015  Bank account or service   Other bank product/service   \n",
       "11    12/30/2015         Credit reporting                          NaN   \n",
       "22    12/30/2015  Bank account or service  (CD) Certificate of deposit   \n",
       "33    12/30/2015         Credit reporting                          NaN   \n",
       "35    12/30/2015         Credit reporting                          NaN   \n",
       "\n",
       "                                       Issue  \\\n",
       "10   Account opening, closing, or management   \n",
       "11  Unable to get credit report/credit score   \n",
       "22   Account opening, closing, or management   \n",
       "33          Improper use of my credit report   \n",
       "35  Unable to get credit report/credit score   \n",
       "\n",
       "                                 Sub-issue Consumer complaint narrative  \\\n",
       "10                                     NaN                          NaN   \n",
       "11   Problem getting my free annual report                          NaN   \n",
       "22                                     NaN                          NaN   \n",
       "33         Report improperly shared by CRC                          NaN   \n",
       "35  Problem getting report or credit score                          NaN   \n",
       "\n",
       "                             Company public response      Company State  \\\n",
       "10  Company chooses not to provide a public response  Wells Fargo    CA   \n",
       "11                                               NaN      Equifax    UT   \n",
       "22  Company chooses not to provide a public response  Wells Fargo    WA   \n",
       "33                                               NaN      Equifax    CA   \n",
       "35                                               NaN      Equifax    TX   \n",
       "\n",
       "   ZIP code Submitted via Date sent to company Company response to consumer  \\\n",
       "10    949XX           Web           12/30/2015      Closed with explanation   \n",
       "11    846XX           Web           12/30/2015      Closed with explanation   \n",
       "22    98498      Referral           12/30/2015      Closed with explanation   \n",
       "33    902XX           Web           12/30/2015      Closed with explanation   \n",
       "35    75249         Phone           12/30/2015      Closed with explanation   \n",
       "\n",
       "   Timely response? Consumer disputed?  Complaint ID  \n",
       "10              Yes                 No       1722412  \n",
       "11              Yes                 No       1722386  \n",
       "22              Yes                 No       1721558  \n",
       "33              Yes                 No       1722612  \n",
       "35              Yes                 No       1722260  "
      ]
     },
     "execution_count": 41,
     "metadata": {},
     "output_type": "execute_result"
    }
   ],
   "source": [
    "cc_df = g.filter(lambda x: len(x) > 10000)\n",
    "cc_df.head()"
   ]
  },
  {
   "cell_type": "code",
   "execution_count": 42,
   "metadata": {
    "collapsed": false
   },
   "outputs": [
    {
     "data": {
      "text/html": [
       "<div>\n",
       "<table border=\"1\" class=\"dataframe\">\n",
       "  <thead>\n",
       "    <tr style=\"text-align: right;\">\n",
       "      <th></th>\n",
       "      <th>Date received</th>\n",
       "      <th>Product</th>\n",
       "      <th>Issue</th>\n",
       "      <th>Sub-issue</th>\n",
       "      <th>Company</th>\n",
       "      <th>State</th>\n",
       "      <th>Date sent to company</th>\n",
       "      <th>Company response to consumer</th>\n",
       "      <th>Timely response?</th>\n",
       "      <th>Consumer disputed?</th>\n",
       "    </tr>\n",
       "  </thead>\n",
       "  <tbody>\n",
       "    <tr>\n",
       "      <th>10</th>\n",
       "      <td>12/30/2015</td>\n",
       "      <td>Bank account or service</td>\n",
       "      <td>Account opening, closing, or management</td>\n",
       "      <td>NaN</td>\n",
       "      <td>Wells Fargo</td>\n",
       "      <td>CA</td>\n",
       "      <td>12/30/2015</td>\n",
       "      <td>Closed with explanation</td>\n",
       "      <td>Yes</td>\n",
       "      <td>No</td>\n",
       "    </tr>\n",
       "    <tr>\n",
       "      <th>11</th>\n",
       "      <td>12/30/2015</td>\n",
       "      <td>Credit reporting</td>\n",
       "      <td>Unable to get credit report/credit score</td>\n",
       "      <td>Problem getting my free annual report</td>\n",
       "      <td>Equifax</td>\n",
       "      <td>UT</td>\n",
       "      <td>12/30/2015</td>\n",
       "      <td>Closed with explanation</td>\n",
       "      <td>Yes</td>\n",
       "      <td>No</td>\n",
       "    </tr>\n",
       "    <tr>\n",
       "      <th>22</th>\n",
       "      <td>12/30/2015</td>\n",
       "      <td>Bank account or service</td>\n",
       "      <td>Account opening, closing, or management</td>\n",
       "      <td>NaN</td>\n",
       "      <td>Wells Fargo</td>\n",
       "      <td>WA</td>\n",
       "      <td>12/30/2015</td>\n",
       "      <td>Closed with explanation</td>\n",
       "      <td>Yes</td>\n",
       "      <td>No</td>\n",
       "    </tr>\n",
       "    <tr>\n",
       "      <th>33</th>\n",
       "      <td>12/30/2015</td>\n",
       "      <td>Credit reporting</td>\n",
       "      <td>Improper use of my credit report</td>\n",
       "      <td>Report improperly shared by CRC</td>\n",
       "      <td>Equifax</td>\n",
       "      <td>CA</td>\n",
       "      <td>12/30/2015</td>\n",
       "      <td>Closed with explanation</td>\n",
       "      <td>Yes</td>\n",
       "      <td>No</td>\n",
       "    </tr>\n",
       "    <tr>\n",
       "      <th>35</th>\n",
       "      <td>12/30/2015</td>\n",
       "      <td>Credit reporting</td>\n",
       "      <td>Unable to get credit report/credit score</td>\n",
       "      <td>Problem getting report or credit score</td>\n",
       "      <td>Equifax</td>\n",
       "      <td>TX</td>\n",
       "      <td>12/30/2015</td>\n",
       "      <td>Closed with explanation</td>\n",
       "      <td>Yes</td>\n",
       "      <td>No</td>\n",
       "    </tr>\n",
       "  </tbody>\n",
       "</table>\n",
       "</div>"
      ],
      "text/plain": [
       "   Date received                  Product  \\\n",
       "10    12/30/2015  Bank account or service   \n",
       "11    12/30/2015         Credit reporting   \n",
       "22    12/30/2015  Bank account or service   \n",
       "33    12/30/2015         Credit reporting   \n",
       "35    12/30/2015         Credit reporting   \n",
       "\n",
       "                                       Issue  \\\n",
       "10   Account opening, closing, or management   \n",
       "11  Unable to get credit report/credit score   \n",
       "22   Account opening, closing, or management   \n",
       "33          Improper use of my credit report   \n",
       "35  Unable to get credit report/credit score   \n",
       "\n",
       "                                 Sub-issue      Company State  \\\n",
       "10                                     NaN  Wells Fargo    CA   \n",
       "11   Problem getting my free annual report      Equifax    UT   \n",
       "22                                     NaN  Wells Fargo    WA   \n",
       "33         Report improperly shared by CRC      Equifax    CA   \n",
       "35  Problem getting report or credit score      Equifax    TX   \n",
       "\n",
       "   Date sent to company Company response to consumer Timely response?  \\\n",
       "10           12/30/2015      Closed with explanation              Yes   \n",
       "11           12/30/2015      Closed with explanation              Yes   \n",
       "22           12/30/2015      Closed with explanation              Yes   \n",
       "33           12/30/2015      Closed with explanation              Yes   \n",
       "35           12/30/2015      Closed with explanation              Yes   \n",
       "\n",
       "   Consumer disputed?  \n",
       "10                 No  \n",
       "11                 No  \n",
       "22                 No  \n",
       "33                 No  \n",
       "35                 No  "
      ]
     },
     "execution_count": 42,
     "metadata": {},
     "output_type": "execute_result"
    }
   ],
   "source": [
    "## Cleaning out some unnecessary stuff, stuff we can't really graph anyway. \n",
    "cc_df = cc_df.drop(['Sub-product','Company public response','Consumer complaint narrative',\n",
    "                    'ZIP code','Submitted via','Complaint ID',],axis=1)\n",
    "cc_df.head()"
   ]
  },
  {
   "cell_type": "code",
   "execution_count": 43,
   "metadata": {
    "collapsed": false
   },
   "outputs": [
    {
     "data": {
      "text/plain": [
       "(269104, 10)"
      ]
     },
     "execution_count": 43,
     "metadata": {},
     "output_type": "execute_result"
    }
   ],
   "source": [
    "cc_df.shape"
   ]
  },
  {
   "cell_type": "code",
   "execution_count": 44,
   "metadata": {
    "collapsed": true
   },
   "outputs": [],
   "source": [
    "## Looks like crummy mortgages were the biggest complaint in 2015. Let's find out who really stood \n",
    "## out here... "
   ]
  },
  {
   "cell_type": "code",
   "execution_count": 45,
   "metadata": {
    "collapsed": false
   },
   "outputs": [
    {
     "data": {
      "text/plain": [
       "Mortgage                   112605\n",
       "Credit reporting            76275\n",
       "Credit card                 37157\n",
       "Bank account or service     28797\n",
       "Debt collection              6885\n",
       "Consumer Loan                4319\n",
       "Student loan                 2161\n",
       "Money transfers               564\n",
       "Prepaid card                  181\n",
       "Other financial service       118\n",
       "Payday loan                    42\n",
       "Name: Product, dtype: int64"
      ]
     },
     "execution_count": 45,
     "metadata": {},
     "output_type": "execute_result"
    }
   ],
   "source": [
    "cc_df['Product'].value_counts()"
   ]
  },
  {
   "cell_type": "code",
   "execution_count": 46,
   "metadata": {
    "collapsed": false
   },
   "outputs": [
    {
     "name": "stderr",
     "output_type": "stream",
     "text": [
      "/home/cassius/anaconda3/lib/python3.4/site-packages/ipykernel/__main__.py:1: FutureWarning: by argument to sort_index is deprecated, pls use .sort_values(by=...)\n",
      "  if __name__ == '__main__':\n"
     ]
    },
    {
     "data": {
      "text/html": [
       "<div>\n",
       "<table border=\"1\" class=\"dataframe\">\n",
       "  <thead>\n",
       "    <tr style=\"text-align: right;\">\n",
       "      <th></th>\n",
       "      <th>Date received</th>\n",
       "      <th>Product</th>\n",
       "      <th>Issue</th>\n",
       "      <th>Sub-issue</th>\n",
       "      <th>Company</th>\n",
       "      <th>State</th>\n",
       "      <th>Date sent to company</th>\n",
       "      <th>Company response to consumer</th>\n",
       "      <th>Timely response?</th>\n",
       "      <th>Consumer disputed?</th>\n",
       "    </tr>\n",
       "  </thead>\n",
       "  <tbody>\n",
       "    <tr>\n",
       "      <th>405</th>\n",
       "      <td>12/23/2015</td>\n",
       "      <td>Bank account or service</td>\n",
       "      <td>Deposits and withdrawals</td>\n",
       "      <td>NaN</td>\n",
       "      <td>Bank of America</td>\n",
       "      <td>NJ</td>\n",
       "      <td>12/28/2015</td>\n",
       "      <td>In progress</td>\n",
       "      <td>Yes</td>\n",
       "      <td>No</td>\n",
       "    </tr>\n",
       "    <tr>\n",
       "      <th>406</th>\n",
       "      <td>12/23/2015</td>\n",
       "      <td>Bank account or service</td>\n",
       "      <td>Account opening, closing, or management</td>\n",
       "      <td>NaN</td>\n",
       "      <td>Bank of America</td>\n",
       "      <td>NJ</td>\n",
       "      <td>12/28/2015</td>\n",
       "      <td>In progress</td>\n",
       "      <td>Yes</td>\n",
       "      <td>No</td>\n",
       "    </tr>\n",
       "    <tr>\n",
       "      <th>822</th>\n",
       "      <td>12/21/2015</td>\n",
       "      <td>Bank account or service</td>\n",
       "      <td>Problems caused by my funds being low</td>\n",
       "      <td>NaN</td>\n",
       "      <td>Bank of America</td>\n",
       "      <td>SC</td>\n",
       "      <td>12/21/2015</td>\n",
       "      <td>In progress</td>\n",
       "      <td>Yes</td>\n",
       "      <td>No</td>\n",
       "    </tr>\n",
       "    <tr>\n",
       "      <th>1120</th>\n",
       "      <td>12/19/2015</td>\n",
       "      <td>Bank account or service</td>\n",
       "      <td>Problems caused by my funds being low</td>\n",
       "      <td>NaN</td>\n",
       "      <td>Bank of America</td>\n",
       "      <td>CA</td>\n",
       "      <td>12/19/2015</td>\n",
       "      <td>In progress</td>\n",
       "      <td>Yes</td>\n",
       "      <td>No</td>\n",
       "    </tr>\n",
       "    <tr>\n",
       "      <th>1161</th>\n",
       "      <td>12/19/2015</td>\n",
       "      <td>Bank account or service</td>\n",
       "      <td>Deposits and withdrawals</td>\n",
       "      <td>NaN</td>\n",
       "      <td>Bank of America</td>\n",
       "      <td>AL</td>\n",
       "      <td>12/19/2015</td>\n",
       "      <td>In progress</td>\n",
       "      <td>Yes</td>\n",
       "      <td>No</td>\n",
       "    </tr>\n",
       "  </tbody>\n",
       "</table>\n",
       "</div>"
      ],
      "text/plain": [
       "     Date received                  Product  \\\n",
       "405     12/23/2015  Bank account or service   \n",
       "406     12/23/2015  Bank account or service   \n",
       "822     12/21/2015  Bank account or service   \n",
       "1120    12/19/2015  Bank account or service   \n",
       "1161    12/19/2015  Bank account or service   \n",
       "\n",
       "                                        Issue Sub-issue          Company  \\\n",
       "405                  Deposits and withdrawals       NaN  Bank of America   \n",
       "406   Account opening, closing, or management       NaN  Bank of America   \n",
       "822     Problems caused by my funds being low       NaN  Bank of America   \n",
       "1120    Problems caused by my funds being low       NaN  Bank of America   \n",
       "1161                 Deposits and withdrawals       NaN  Bank of America   \n",
       "\n",
       "     State Date sent to company Company response to consumer Timely response?  \\\n",
       "405     NJ           12/28/2015                  In progress              Yes   \n",
       "406     NJ           12/28/2015                  In progress              Yes   \n",
       "822     SC           12/21/2015                  In progress              Yes   \n",
       "1120    CA           12/19/2015                  In progress              Yes   \n",
       "1161    AL           12/19/2015                  In progress              Yes   \n",
       "\n",
       "     Consumer disputed?  \n",
       "405                  No  \n",
       "406                  No  \n",
       "822                  No  \n",
       "1120                 No  \n",
       "1161                 No  "
      ]
     },
     "execution_count": 46,
     "metadata": {},
     "output_type": "execute_result"
    }
   ],
   "source": [
    "cc_df.sort_index(by=['Product','Company']).head()\n",
    "## Ok so now I'm sorted by the company and the product they received complaints on. Now, how to graph\n",
    "## the companies by the individual product? That way the graphs will be readable and provide some \n",
    "## clarity from the data. Right now there are too many products."
   ]
  },
  {
   "cell_type": "code",
   "execution_count": 47,
   "metadata": {
    "collapsed": false
   },
   "outputs": [
    {
     "data": {
      "text/html": [
       "<div>\n",
       "<table border=\"1\" class=\"dataframe\">\n",
       "  <thead>\n",
       "    <tr style=\"text-align: right;\">\n",
       "      <th></th>\n",
       "      <th>Date received</th>\n",
       "      <th>Product</th>\n",
       "      <th>Issue</th>\n",
       "      <th>Sub-issue</th>\n",
       "      <th>Company</th>\n",
       "      <th>State</th>\n",
       "      <th>Date sent to company</th>\n",
       "      <th>Company response to consumer</th>\n",
       "      <th>Timely response?</th>\n",
       "      <th>Consumer disputed?</th>\n",
       "    </tr>\n",
       "  </thead>\n",
       "  <tbody>\n",
       "    <tr>\n",
       "      <th>71</th>\n",
       "      <td>12/29/2015</td>\n",
       "      <td>Mortgage</td>\n",
       "      <td>Loan modification,collection,foreclosure</td>\n",
       "      <td>NaN</td>\n",
       "      <td>Bank of America</td>\n",
       "      <td>NY</td>\n",
       "      <td>12/29/2015</td>\n",
       "      <td>In progress</td>\n",
       "      <td>Yes</td>\n",
       "      <td>No</td>\n",
       "    </tr>\n",
       "    <tr>\n",
       "      <th>117</th>\n",
       "      <td>12/29/2015</td>\n",
       "      <td>Mortgage</td>\n",
       "      <td>Loan servicing, payments, escrow account</td>\n",
       "      <td>NaN</td>\n",
       "      <td>Ocwen</td>\n",
       "      <td>FL</td>\n",
       "      <td>12/29/2015</td>\n",
       "      <td>Closed with explanation</td>\n",
       "      <td>Yes</td>\n",
       "      <td>No</td>\n",
       "    </tr>\n",
       "    <tr>\n",
       "      <th>121</th>\n",
       "      <td>12/29/2015</td>\n",
       "      <td>Mortgage</td>\n",
       "      <td>Loan modification,collection,foreclosure</td>\n",
       "      <td>NaN</td>\n",
       "      <td>Ocwen</td>\n",
       "      <td>TX</td>\n",
       "      <td>12/29/2015</td>\n",
       "      <td>Closed with explanation</td>\n",
       "      <td>Yes</td>\n",
       "      <td>No</td>\n",
       "    </tr>\n",
       "    <tr>\n",
       "      <th>124</th>\n",
       "      <td>12/29/2015</td>\n",
       "      <td>Mortgage</td>\n",
       "      <td>Loan servicing, payments, escrow account</td>\n",
       "      <td>NaN</td>\n",
       "      <td>Ocwen</td>\n",
       "      <td>WI</td>\n",
       "      <td>12/29/2015</td>\n",
       "      <td>Closed with explanation</td>\n",
       "      <td>Yes</td>\n",
       "      <td>Yes</td>\n",
       "    </tr>\n",
       "    <tr>\n",
       "      <th>134</th>\n",
       "      <td>12/28/2015</td>\n",
       "      <td>Mortgage</td>\n",
       "      <td>Application, originator, mortgage broker</td>\n",
       "      <td>NaN</td>\n",
       "      <td>Bank of America</td>\n",
       "      <td>NC</td>\n",
       "      <td>12/28/2015</td>\n",
       "      <td>In progress</td>\n",
       "      <td>Yes</td>\n",
       "      <td>No</td>\n",
       "    </tr>\n",
       "  </tbody>\n",
       "</table>\n",
       "</div>"
      ],
      "text/plain": [
       "    Date received   Product                                     Issue  \\\n",
       "71     12/29/2015  Mortgage  Loan modification,collection,foreclosure   \n",
       "117    12/29/2015  Mortgage  Loan servicing, payments, escrow account   \n",
       "121    12/29/2015  Mortgage  Loan modification,collection,foreclosure   \n",
       "124    12/29/2015  Mortgage  Loan servicing, payments, escrow account   \n",
       "134    12/28/2015  Mortgage  Application, originator, mortgage broker   \n",
       "\n",
       "    Sub-issue          Company State Date sent to company  \\\n",
       "71        NaN  Bank of America    NY           12/29/2015   \n",
       "117       NaN            Ocwen    FL           12/29/2015   \n",
       "121       NaN            Ocwen    TX           12/29/2015   \n",
       "124       NaN            Ocwen    WI           12/29/2015   \n",
       "134       NaN  Bank of America    NC           12/28/2015   \n",
       "\n",
       "    Company response to consumer Timely response? Consumer disputed?  \n",
       "71                   In progress              Yes                 No  \n",
       "117      Closed with explanation              Yes                 No  \n",
       "121      Closed with explanation              Yes                 No  \n",
       "124      Closed with explanation              Yes                Yes  \n",
       "134                  In progress              Yes                 No  "
      ]
     },
     "execution_count": 47,
     "metadata": {},
     "output_type": "execute_result"
    }
   ],
   "source": [
    "## Okay, now we have a DataFrame with only Mortgage complaints! Let's see who the bad boys really \n",
    "## were in this field\n",
    "mort_df = cc_df[cc_df['Product'] == 'Mortgage']\n",
    "mort_df.head()"
   ]
  },
  {
   "cell_type": "code",
   "execution_count": 48,
   "metadata": {
    "collapsed": false
   },
   "outputs": [
    {
     "data": {
      "text/plain": [
       "(112605, 10)"
      ]
     },
     "execution_count": 48,
     "metadata": {},
     "output_type": "execute_result"
    }
   ],
   "source": [
    "mort_df.shape\n",
    "## My DataFrame shape matches the value_counts above for mortgages...good. "
   ]
  },
  {
   "cell_type": "code",
   "execution_count": 49,
   "metadata": {
    "collapsed": false
   },
   "outputs": [
    {
     "name": "stderr",
     "output_type": "stream",
     "text": [
      "/home/cassius/anaconda3/lib/python3.4/site-packages/matplotlib/__init__.py:892: UserWarning: axes.color_cycle is deprecated and replaced with axes.prop_cycle; please use the latter.\n",
      "  warnings.warn(self.msg_depr % (key, alt_key))\n"
     ]
    },
    {
     "data": {
      "text/plain": [
       "<seaborn.axisgrid.FacetGrid at 0x7f01b43e0d68>"
      ]
     },
     "execution_count": 49,
     "metadata": {},
     "output_type": "execute_result"
    },
    {
     "data": {
      "image/png": "[encoded data removed]",
      "text/plain": [
       "<matplotlib.figure.Figure at 0x7f01b43e0cc0>"
      ]
     },
     "metadata": {},
     "output_type": "display_data"
    }
   ],
   "source": [
    "##So here we can see that BofA came in first for mortgages complaints (who knew?) with Wells Fargo\n",
    "##in a fairly distant second place. Ocwen is third.\n",
    "##set the font size to something readable:\n",
    "sns.set_context('notebook', font_scale=1.3, rc={'line.linewidth': 2.5})\n",
    "sns.factorplot(x='Product',data=mort_df, hue='Company', kind='count',size=4, aspect=1.5,palette=\"deep\")"
   ]
  },
  {
   "cell_type": "code",
   "execution_count": 50,
   "metadata": {
    "collapsed": false
   },
   "outputs": [
    {
     "name": "stderr",
     "output_type": "stream",
     "text": [
      "/home/cassius/anaconda3/lib/python3.4/site-packages/matplotlib/__init__.py:892: UserWarning: axes.color_cycle is deprecated and replaced with axes.prop_cycle; please use the latter.\n",
      "  warnings.warn(self.msg_depr % (key, alt_key))\n"
     ]
    },
    {
     "data": {
      "text/plain": [
       "<seaborn.axisgrid.FacetGrid at 0x7f01c1babe48>"
      ]
     },
     "execution_count": 50,
     "metadata": {},
     "output_type": "execute_result"
    },
    {
     "data": {
      "image/png": "[encoded data removed]",
      "text/plain": [
       "<matplotlib.figure.Figure at 0x7f01b43e0e80>"
      ]
     },
     "metadata": {},
     "output_type": "display_data"
    }
   ],
   "source": [
    "sns.set_context('paper', font_scale=1.5, rc={'line.linewidth': 2.5})\n",
    "sns.factorplot(x='State',data=mort_df, hue='Product', kind='count',size=4, aspect=2.5,palette=\"deep\")"
   ]
  },
  {
   "cell_type": "code",
   "execution_count": 51,
   "metadata": {
    "collapsed": true
   },
   "outputs": [],
   "source": [
    "## Above, we see that California was hit hard, nearly twice as much as Florida which came in second,\n",
    "## which was twice as much as New York, which takes 3rd place for consumer complaints in the mortgage \n",
    "## industry. Wonder if this is due in part to population? Yes but not entirely, since Texas is the \n",
    "## second-most populated state, but 5th in complaints. Also, I wonder which state \n",
    "## has the abbreviation 'PW'?"
   ]
  },
  {
   "cell_type": "code",
   "execution_count": 52,
   "metadata": {
    "collapsed": false
   },
   "outputs": [
    {
     "data": {
      "text/plain": [
       "array(['NY', 'FL', 'TX', 'WI', 'NC', 'OH', 'IL', 'VA', 'CA', 'WA', 'MO',\n",
       "       'MA', 'CO', 'PA', 'SC', 'LA', 'MS', 'CT', 'NJ', 'MN', 'AZ', 'OR',\n",
       "       'MI', 'MD', 'UT', 'TN', 'GA', nan, 'IN', 'NV', 'AL', 'AR', 'ME',\n",
       "       'DC', 'WV', 'OK', 'PR', 'RI', 'KS', 'NM', 'DE', 'ID', 'NE', 'HI',\n",
       "       'AE', 'IA', 'KY', 'VT', 'WY', 'NH', 'VI', 'FM', 'AK', 'GU', 'ND',\n",
       "       'SD', 'MT', 'AP', 'MH', 'MP', 'AA', 'AS', 'PW'], dtype=object)"
      ]
     },
     "execution_count": 52,
     "metadata": {},
     "output_type": "execute_result"
    }
   ],
   "source": [
    "mort_df['State'].unique()"
   ]
  },
  {
   "cell_type": "code",
   "execution_count": 53,
   "metadata": {
    "collapsed": false
   },
   "outputs": [
    {
     "data": {
      "text/plain": [
       "63"
      ]
     },
     "execution_count": 53,
     "metadata": {},
     "output_type": "execute_result"
    }
   ],
   "source": [
    "###...and where the heck is 'GU'??? \n",
    "len(mort_df['State'].unique())\n",
    "###must be some new states that have joined the union unbeknownst to me...or I have a dirty, dirty dataset. "
   ]
  },
  {
   "cell_type": "code",
   "execution_count": 54,
   "metadata": {
    "collapsed": false
   },
   "outputs": [
    {
     "name": "stderr",
     "output_type": "stream",
     "text": [
      "/home/cassius/anaconda3/lib/python3.4/site-packages/matplotlib/__init__.py:892: UserWarning: axes.color_cycle is deprecated and replaced with axes.prop_cycle; please use the latter.\n",
      "  warnings.warn(self.msg_depr % (key, alt_key))\n"
     ]
    },
    {
     "data": {
      "text/plain": [
       "<seaborn.axisgrid.FacetGrid at 0x7f01b4273128>"
      ]
     },
     "execution_count": 54,
     "metadata": {},
     "output_type": "execute_result"
    },
    {
     "data": {
      "image/png": "[encoded data removed]",
      "text/plain": [
       "<matplotlib.figure.Figure at 0x7f01b42732e8>"
      ]
     },
     "metadata": {},
     "output_type": "display_data"
    }
   ],
   "source": [
    "###Well at least most people got a 'timely response'. I just wonder if it was the response they were hoping for...\n",
    "sns.set_context('notebook', font_scale=1.5, rc={'line.linewidth': 1.5})\n",
    "sns.factorplot('Company', hue='Timely response?', data=mort_df, kind='count',size=4.5,aspect=1.8,palette=\"dark\")"
   ]
  },
  {
   "cell_type": "code",
   "execution_count": 55,
   "metadata": {
    "collapsed": false
   },
   "outputs": [
    {
     "name": "stderr",
     "output_type": "stream",
     "text": [
      "/home/cassius/anaconda3/lib/python3.4/site-packages/matplotlib/__init__.py:892: UserWarning: axes.color_cycle is deprecated and replaced with axes.prop_cycle; please use the latter.\n",
      "  warnings.warn(self.msg_depr % (key, alt_key))\n"
     ]
    },
    {
     "data": {
      "text/plain": [
       "<seaborn.axisgrid.FacetGrid at 0x7f01b42f37b8>"
      ]
     },
     "execution_count": 55,
     "metadata": {},
     "output_type": "execute_result"
    },
    {
     "data": {
      "image/png": "[encoded data removed]",
      "text/plain": [
       "<matplotlib.figure.Figure at 0x7f01b4205470>"
      ]
     },
     "metadata": {},
     "output_type": "display_data"
    }
   ],
   "source": [
    "## Kinda figures the top three would have the most consumer-disputed cases, which is \n",
    "## borne-out here. I wonder why the clear majority of complaints are labeled as \"not \n",
    "## consumer disputed\", unless that criteria has only to do with the final outcome. \n",
    "## In which case, if the data is correct, the companies did a fairly good job at dealing \n",
    "## with their complaints. \n",
    "sns.set_style('whitegrid')\n",
    "sns.set_context('notebook', font_scale=1.5, rc={'line.linewidth': 1.5})\n",
    "sns.factorplot('Company', hue='Consumer disputed?', data=mort_df, kind='count',size=4.0,aspect=1.7,palette=\"bright\")"
   ]
  },
  {
   "cell_type": "code",
   "execution_count": 56,
   "metadata": {
    "collapsed": true
   },
   "outputs": [],
   "source": [
    "## So in order to get a view for when the complaints rolled in and for which company, \n",
    "## I need to figure out how to rename the dates to years instead of the mm-dd-yyyy format. \n",
    "## Without doing this, we'd get data for every day, which is too much to graph."
   ]
  },
  {
   "cell_type": "code",
   "execution_count": 57,
   "metadata": {
    "collapsed": false
   },
   "outputs": [
    {
     "data": {
      "text/plain": [
       "(112605,)"
      ]
     },
     "execution_count": 57,
     "metadata": {},
     "output_type": "execute_result"
    }
   ],
   "source": [
    "date = mort_df['Date received']\n",
    "date.shape"
   ]
  },
  {
   "cell_type": "code",
   "execution_count": 58,
   "metadata": {
    "collapsed": false
   },
   "outputs": [],
   "source": [
    "str_date = []"
   ]
  },
  {
   "cell_type": "code",
   "execution_count": 59,
   "metadata": {
    "collapsed": false
   },
   "outputs": [
    {
     "data": {
      "text/plain": [
       "['2011', '2011', '2011', '2011', '2011']"
      ]
     },
     "execution_count": 59,
     "metadata": {},
     "output_type": "execute_result"
    }
   ],
   "source": [
    "x = []\n",
    "for d in date:\n",
    "    n = d[6:11]\n",
    "    str_date.append(str(n))\n",
    "str_date[112599:112604]"
   ]
  },
  {
   "cell_type": "code",
   "execution_count": 60,
   "metadata": {
    "collapsed": false
   },
   "outputs": [
    {
     "data": {
      "text/plain": [
       "112605"
      ]
     },
     "execution_count": 60,
     "metadata": {},
     "output_type": "execute_result"
    }
   ],
   "source": [
    "#Double-checking the length of the list \n",
    "len(str_date)"
   ]
  },
  {
   "cell_type": "code",
   "execution_count": 61,
   "metadata": {
    "collapsed": false
   },
   "outputs": [
    {
     "name": "stderr",
     "output_type": "stream",
     "text": [
      "/home/cassius/anaconda3/lib/python3.4/site-packages/ipykernel/__main__.py:2: SettingWithCopyWarning: \n",
      "A value is trying to be set on a copy of a slice from a DataFrame.\n",
      "Try using .loc[row_indexer,col_indexer] = value instead\n",
      "\n",
      "See the caveats in the documentation: http://pandas.pydata.org/pandas-docs/stable/indexing.html#indexing-view-versus-copy\n",
      "  from ipykernel import kernelapp as app\n"
     ]
    }
   ],
   "source": [
    "#Pass the list into the mortgage DataFrame\n",
    "mort_df['year'] = str_date"
   ]
  },
  {
   "cell_type": "code",
   "execution_count": 62,
   "metadata": {
    "collapsed": false
   },
   "outputs": [
    {
     "data": {
      "text/html": [
       "<div>\n",
       "<table border=\"1\" class=\"dataframe\">\n",
       "  <thead>\n",
       "    <tr style=\"text-align: right;\">\n",
       "      <th></th>\n",
       "      <th>Date received</th>\n",
       "      <th>Product</th>\n",
       "      <th>Issue</th>\n",
       "      <th>Sub-issue</th>\n",
       "      <th>Company</th>\n",
       "      <th>State</th>\n",
       "      <th>Date sent to company</th>\n",
       "      <th>Company response to consumer</th>\n",
       "      <th>Timely response?</th>\n",
       "      <th>Consumer disputed?</th>\n",
       "      <th>year</th>\n",
       "    </tr>\n",
       "  </thead>\n",
       "  <tbody>\n",
       "    <tr>\n",
       "      <th>71</th>\n",
       "      <td>12/29/2015</td>\n",
       "      <td>Mortgage</td>\n",
       "      <td>Loan modification,collection,foreclosure</td>\n",
       "      <td>NaN</td>\n",
       "      <td>Bank of America</td>\n",
       "      <td>NY</td>\n",
       "      <td>12/29/2015</td>\n",
       "      <td>In progress</td>\n",
       "      <td>Yes</td>\n",
       "      <td>No</td>\n",
       "      <td>2015</td>\n",
       "    </tr>\n",
       "    <tr>\n",
       "      <th>117</th>\n",
       "      <td>12/29/2015</td>\n",
       "      <td>Mortgage</td>\n",
       "      <td>Loan servicing, payments, escrow account</td>\n",
       "      <td>NaN</td>\n",
       "      <td>Ocwen</td>\n",
       "      <td>FL</td>\n",
       "      <td>12/29/2015</td>\n",
       "      <td>Closed with explanation</td>\n",
       "      <td>Yes</td>\n",
       "      <td>No</td>\n",
       "      <td>2015</td>\n",
       "    </tr>\n",
       "    <tr>\n",
       "      <th>121</th>\n",
       "      <td>12/29/2015</td>\n",
       "      <td>Mortgage</td>\n",
       "      <td>Loan modification,collection,foreclosure</td>\n",
       "      <td>NaN</td>\n",
       "      <td>Ocwen</td>\n",
       "      <td>TX</td>\n",
       "      <td>12/29/2015</td>\n",
       "      <td>Closed with explanation</td>\n",
       "      <td>Yes</td>\n",
       "      <td>No</td>\n",
       "      <td>2015</td>\n",
       "    </tr>\n",
       "    <tr>\n",
       "      <th>124</th>\n",
       "      <td>12/29/2015</td>\n",
       "      <td>Mortgage</td>\n",
       "      <td>Loan servicing, payments, escrow account</td>\n",
       "      <td>NaN</td>\n",
       "      <td>Ocwen</td>\n",
       "      <td>WI</td>\n",
       "      <td>12/29/2015</td>\n",
       "      <td>Closed with explanation</td>\n",
       "      <td>Yes</td>\n",
       "      <td>Yes</td>\n",
       "      <td>2015</td>\n",
       "    </tr>\n",
       "    <tr>\n",
       "      <th>134</th>\n",
       "      <td>12/28/2015</td>\n",
       "      <td>Mortgage</td>\n",
       "      <td>Application, originator, mortgage broker</td>\n",
       "      <td>NaN</td>\n",
       "      <td>Bank of America</td>\n",
       "      <td>NC</td>\n",
       "      <td>12/28/2015</td>\n",
       "      <td>In progress</td>\n",
       "      <td>Yes</td>\n",
       "      <td>No</td>\n",
       "      <td>2015</td>\n",
       "    </tr>\n",
       "  </tbody>\n",
       "</table>\n",
       "</div>"
      ],
      "text/plain": [
       "    Date received   Product                                     Issue  \\\n",
       "71     12/29/2015  Mortgage  Loan modification,collection,foreclosure   \n",
       "117    12/29/2015  Mortgage  Loan servicing, payments, escrow account   \n",
       "121    12/29/2015  Mortgage  Loan modification,collection,foreclosure   \n",
       "124    12/29/2015  Mortgage  Loan servicing, payments, escrow account   \n",
       "134    12/28/2015  Mortgage  Application, originator, mortgage broker   \n",
       "\n",
       "    Sub-issue          Company State Date sent to company  \\\n",
       "71        NaN  Bank of America    NY           12/29/2015   \n",
       "117       NaN            Ocwen    FL           12/29/2015   \n",
       "121       NaN            Ocwen    TX           12/29/2015   \n",
       "124       NaN            Ocwen    WI           12/29/2015   \n",
       "134       NaN  Bank of America    NC           12/28/2015   \n",
       "\n",
       "    Company response to consumer Timely response? Consumer disputed?  year  \n",
       "71                   In progress              Yes                 No  2015  \n",
       "117      Closed with explanation              Yes                 No  2015  \n",
       "121      Closed with explanation              Yes                 No  2015  \n",
       "124      Closed with explanation              Yes                Yes  2015  \n",
       "134                  In progress              Yes                 No  2015  "
      ]
     },
     "execution_count": 62,
     "metadata": {},
     "output_type": "execute_result"
    }
   ],
   "source": [
    "##Got 'er did. Now to figure out how to graph the data.\n",
    "mort_df.head()"
   ]
  },
  {
   "cell_type": "code",
   "execution_count": 63,
   "metadata": {
    "collapsed": true
   },
   "outputs": [],
   "source": [
    "###The API only had data from December of 2011, so let's get rid of that year entirely:\n",
    "mort_df = mort_df[mort_df['year'] != '2011']"
   ]
  },
  {
   "cell_type": "code",
   "execution_count": 64,
   "metadata": {
    "collapsed": false
   },
   "outputs": [
    {
     "name": "stderr",
     "output_type": "stream",
     "text": [
      "/home/cassius/anaconda3/lib/python3.4/site-packages/matplotlib/__init__.py:892: UserWarning: axes.color_cycle is deprecated and replaced with axes.prop_cycle; please use the latter.\n",
      "  warnings.warn(self.msg_depr % (key, alt_key))\n"
     ]
    },
    {
     "data": {
      "text/plain": [
       "<seaborn.axisgrid.FacetGrid at 0x7f01b43e0438>"
      ]
     },
     "execution_count": 64,
     "metadata": {},
     "output_type": "execute_result"
    },
    {
     "data": {
      "image/png": "[encoded data removed]",
      "text/plain": [
       "<matplotlib.figure.Figure at 0x7f01afae4048>"
      ]
     },
     "metadata": {},
     "output_type": "display_data"
    }
   ],
   "source": [
    "mort_df.groupby('year')\n",
    "sns.set_context('notebook', font_scale=1.5, rc={'line.linewidth': 1.5})\n",
    "sns.factorplot('year', hue='Company', data=mort_df, kind='count',size=4,aspect=1.5,palette=\"bright\")"
   ]
  },
  {
   "cell_type": "code",
   "execution_count": 65,
   "metadata": {
    "collapsed": true
   },
   "outputs": [],
   "source": [
    "## We can basically say things really got bad in 2012 and 2013 and then things seem \n",
    "## to calm down. I wonder if we had some laws get passed at that time that tried to \n",
    "## curb some of the most egregious abuses...?"
   ]
  }
 ],
 "metadata": {
  "kernelspec": {
   "display_name": "Python 3",
   "language": "python",
   "name": "python3"
  },
  "language_info": {
   "codemirror_mode": {
    "name": "ipython",
    "version": 3
   },
   "file_extension": ".py",
   "mimetype": "text/x-python",
   "name": "python",
   "nbconvert_exporter": "python",
   "pygments_lexer": "ipython3",
   "version": "3.4.3"
  }
 },
 "nbformat": 4,
 "nbformat_minor": 0
}
